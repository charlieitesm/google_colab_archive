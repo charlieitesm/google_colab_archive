{
  "nbformat": 4,
  "nbformat_minor": 0,
  "metadata": {
    "colab": {
      "name": "SVM + PCA + Face_Recognition.ipynb",
      "provenance": [],
      "collapsed_sections": []
    },
    "kernelspec": {
      "name": "python3",
      "display_name": "Python 3"
    }
  },
  "cells": [
    {
      "cell_type": "markdown",
      "metadata": {
        "id": "YZmkIsIYFqcv",
        "colab_type": "text"
      },
      "source": [
        "# SVM + PCA + Face Recognition"
      ]
    },
    {
      "cell_type": "code",
      "metadata": {
        "id": "jFI8WZj3FBvp",
        "colab_type": "code",
        "colab": {}
      },
      "source": [
        "from sklearn.datasets import fetch_lfw_people\n",
        "from sklearn.model_selection import train_test_split  \n",
        "from sklearn import svm, metrics\n",
        "from sklearn.metrics import confusion_matrix\n",
        "\n",
        "import matplotlib.pyplot as plt"
      ],
      "execution_count": null,
      "outputs": []
    },
    {
      "cell_type": "code",
      "metadata": {
        "id": "BD1-JHXTG3gy",
        "colab_type": "code",
        "colab": {}
      },
      "source": [
        "faces = fetch_lfw_people(min_faces_per_person=60)"
      ],
      "execution_count": null,
      "outputs": []
    },
    {
      "cell_type": "code",
      "metadata": {
        "id": "ywdsn6j3HCta",
        "colab_type": "code",
        "colab": {
          "base_uri": "https://localhost:8080/",
          "height": 52
        },
        "outputId": "644391c0-95a8-47f3-d79c-e9977287d9de"
      },
      "source": [
        "print(faces.target_names)"
      ],
      "execution_count": null,
      "outputs": [
        {
          "output_type": "stream",
          "text": [
            "['Ariel Sharon' 'Colin Powell' 'Donald Rumsfeld' 'George W Bush'\n",
            " 'Gerhard Schroeder' 'Hugo Chavez' 'Junichiro Koizumi' 'Tony Blair']\n"
          ],
          "name": "stdout"
        }
      ]
    },
    {
      "cell_type": "code",
      "metadata": {
        "id": "zFqXn2CgtxI0",
        "colab_type": "code",
        "colab": {}
      },
      "source": [
        "import seaborn as sns\n",
        "sns.set(rc={'figure.figsize':(16,9)})  # (width, height)"
      ],
      "execution_count": null,
      "outputs": []
    },
    {
      "cell_type": "code",
      "metadata": {
        "id": "AhpAkfXnHMyg",
        "colab_type": "code",
        "colab": {}
      },
      "source": [
        "fig, ax = plt.subplots(4, 8)\n",
        "for i, axi in enumerate(ax.flat):\n",
        "    axi.imshow(faces.images[i+200], cmap='bone')\n",
        "    axi.set(xticks=[], yticks=[],\n",
        "            xlabel=faces.target_names[faces.target[i+200]])"
      ],
      "execution_count": null,
      "outputs": []
    },
    {
      "cell_type": "code",
      "metadata": {
        "id": "rKqyKKSiIYLJ",
        "colab_type": "code",
        "colab": {}
      },
      "source": [
        "X_train, X_test, Y_train, Y_test = train_test_split(faces.data, faces.target, test_size=0.3, stratify=faces.target, random_state=None)"
      ],
      "execution_count": null,
      "outputs": []
    },
    {
      "cell_type": "code",
      "metadata": {
        "id": "Up_M7tiTKxWp",
        "colab_type": "code",
        "colab": {}
      },
      "source": [
        "print(X_train.shape)\n",
        "print(X_test.shape)"
      ],
      "execution_count": null,
      "outputs": []
    },
    {
      "cell_type": "code",
      "metadata": {
        "id": "Ew7S_caWVtkt",
        "colab_type": "code",
        "colab": {}
      },
      "source": [
        "faces.images.shape  # 62x47 = 2914"
      ],
      "execution_count": null,
      "outputs": []
    },
    {
      "cell_type": "markdown",
      "metadata": {
        "id": "bCxz3LyoTf4e",
        "colab_type": "text"
      },
      "source": [
        "## Modelo SVM - Radial:"
      ]
    },
    {
      "cell_type": "code",
      "metadata": {
        "id": "2T71ib-FMnaY",
        "colab_type": "code",
        "colab": {}
      },
      "source": [
        "CC = 10\n",
        "modelk = svm.SVC(kernel='rbf', C=CC, random_state=31)\n",
        "modelk.fit(X_train, Y_train)"
      ],
      "execution_count": null,
      "outputs": []
    },
    {
      "cell_type": "code",
      "metadata": {
        "id": "8NAKb0qsNmFs",
        "colab_type": "code",
        "colab": {}
      },
      "source": [
        "y_pred = modelk.predict(X_test)\n",
        "print(\"Accuracy:\", metrics.accuracy_score(Y_test, y_pred) * 100)"
      ],
      "execution_count": null,
      "outputs": []
    },
    {
      "cell_type": "code",
      "metadata": {
        "id": "9zBsyrJAT11S",
        "colab_type": "code",
        "colab": {}
      },
      "source": [
        "print(faces.target_names)\n",
        "confusion_matrix(Y_test, y_pred)"
      ],
      "execution_count": null,
      "outputs": []
    },
    {
      "cell_type": "markdown",
      "metadata": {
        "id": "SdGywmTYWW0J",
        "colab_type": "text"
      },
      "source": [
        "## PCA\n",
        "\n",
        "Las imágenes son de tamaño 62x47=2914. \n",
        "\n",
        "En lugar de usar estos 2914 pixeles, apliquemos PCA para obtener las principales características (features) y considerar solo una pequeña parte de ellos y ver si aún podemos seguir obteniendo un bueno desempeño."
      ]
    },
    {
      "cell_type": "code",
      "metadata": {
        "id": "36opHEJ9Waop",
        "colab_type": "code",
        "colab": {}
      },
      "source": [
        "from sklearn.decomposition import PCA\n",
        "from sklearn.pipeline import make_pipeline"
      ],
      "execution_count": null,
      "outputs": []
    },
    {
      "cell_type": "code",
      "metadata": {
        "id": "knVyfLO-bBIG",
        "colab_type": "code",
        "colab": {}
      },
      "source": [
        "pipe_pca = PCA(n_components=60, whiten=True, svd_solver='auto', random_state=17)"
      ],
      "execution_count": null,
      "outputs": []
    },
    {
      "cell_type": "code",
      "metadata": {
        "id": "VgHI3joEbAcQ",
        "colab_type": "code",
        "colab": {}
      },
      "source": [
        "pipe_svm = svm.SVC(kernel='rbf', C=CC, verbose=True, random_state=7)"
      ],
      "execution_count": null,
      "outputs": []
    },
    {
      "cell_type": "code",
      "metadata": {
        "id": "8slF09nof2Eu",
        "colab_type": "code",
        "colab": {}
      },
      "source": [
        "model_pca_svm = make_pipeline(pipe_pca, pipe_svm, verbose=True)"
      ],
      "execution_count": null,
      "outputs": []
    },
    {
      "cell_type": "code",
      "metadata": {
        "id": "rcrV8qrxjS9N",
        "colab_type": "code",
        "colab": {}
      },
      "source": [
        "model_pca_svm.fit(X_train, Y_train)"
      ],
      "execution_count": null,
      "outputs": []
    },
    {
      "cell_type": "code",
      "metadata": {
        "id": "40bW4CchjyjC",
        "colab_type": "code",
        "colab": {}
      },
      "source": [
        "y_predpca = modelpca.predict(X_test)\n",
        "print(\"Accuracy:\", metrics.accuracy_score(Y_test, y_predpca) * 100)"
      ],
      "execution_count": null,
      "outputs": []
    },
    {
      "cell_type": "code",
      "metadata": {
        "id": "LAsA_zndUwrG",
        "colab_type": "code",
        "colab": {}
      },
      "source": [
        "print(faces.target_names)\n",
        "confusion_matrix(Y_test, y_predpca)"
      ],
      "execution_count": null,
      "outputs": []
    }
  ]
}