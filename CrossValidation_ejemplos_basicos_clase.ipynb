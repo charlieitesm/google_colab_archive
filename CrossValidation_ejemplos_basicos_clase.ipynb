{
  "nbformat": 4,
  "nbformat_minor": 0,
  "metadata": {
    "colab": {
      "name": "CrossValidation_ejemplos_basicos_clase.ipynb",
      "provenance": [],
      "collapsed_sections": []
    },
    "kernelspec": {
      "name": "python3",
      "display_name": "Python 3"
    }
  },
  "cells": [
    {
      "cell_type": "markdown",
      "metadata": {
        "id": "acE_AbkZc3tD"
      },
      "source": [
        "Tratando de ver las diferentes formas de aplicar Cross-Validation (CV):\n",
        "\n",
        "https://scikit-learn.org/stable/modules/cross_validation.html "
      ]
    },
    {
      "cell_type": "markdown",
      "metadata": {
        "id": "nWpldJaKdDML"
      },
      "source": [
        "# Usando scikit-learn:\n"
      ]
    },
    {
      "cell_type": "code",
      "metadata": {
        "id": "ZPK5pI0bcy8N"
      },
      "source": [
        "import numpy as np\n",
        "from sklearn.model_selection import train_test_split\n",
        "from sklearn import datasets\n",
        "from sklearn import svm\n",
        "\n",
        "from sklearn.model_selection import KFold\n",
        "from sklearn.model_selection import RepeatedKFold\n",
        "\n",
        "from sklearn.model_selection import StratifiedKFold\n",
        "from sklearn.model_selection import StratifiedShuffleSplit\n",
        "\n",
        "import numpy as np\n",
        "\n",
        "from sklearn.model_selection import cross_val_score\n"
      ],
      "execution_count": null,
      "outputs": []
    },
    {
      "cell_type": "code",
      "metadata": {
        "id": "1Y4K1tWxes6t",
        "colab": {
          "base_uri": "https://localhost:8080/",
          "height": 35
        },
        "outputId": "2f9bcaf0-f226-446b-a9e0-63d4393b7f73"
      },
      "source": [
        "X, y = datasets.load_iris(return_X_y=True)\n",
        "X.shape, y.shape"
      ],
      "execution_count": null,
      "outputs": [
        {
          "output_type": "execute_result",
          "data": {
            "text/plain": [
              "((150, 4), (150,))"
            ]
          },
          "metadata": {
            "tags": []
          },
          "execution_count": 3
        }
      ]
    },
    {
      "cell_type": "code",
      "metadata": {
        "id": "d-Ln3o9Ue-us",
        "colab": {
          "base_uri": "https://localhost:8080/",
          "height": 52
        },
        "outputId": "c7aa2b39-b1d1-4710-f080-aff162b164f2"
      },
      "source": [
        "X_train, X_test, y_train, y_test = train_test_split(X, y, test_size=0.4, random_state=0)\n",
        "print(X_train.shape, y_train.shape)\n",
        "print(X_test.shape, y_test.shape)"
      ],
      "execution_count": null,
      "outputs": [
        {
          "output_type": "stream",
          "text": [
            "(90, 4) (90,)\n",
            "(60, 4) (60,)\n"
          ],
          "name": "stdout"
        }
      ]
    },
    {
      "cell_type": "markdown",
      "metadata": {
        "id": "kV61LYIgfwU9"
      },
      "source": [
        "## Clasificación usando SVM:"
      ]
    },
    {
      "cell_type": "code",
      "metadata": {
        "id": "H6Vn1hwHfY-f",
        "colab": {
          "base_uri": "https://localhost:8080/",
          "height": 35
        },
        "outputId": "f9f05ce2-3719-4e25-d7a4-cadb52e3dc9f"
      },
      "source": [
        "clf = svm.SVC(kernel='linear', C=1).fit(X_train, y_train)\n",
        "clf.score(X_test, y_test)"
      ],
      "execution_count": null,
      "outputs": [
        {
          "output_type": "execute_result",
          "data": {
            "text/plain": [
              "0.8666666666666667"
            ]
          },
          "metadata": {
            "tags": []
          },
          "execution_count": 73
        }
      ]
    },
    {
      "cell_type": "markdown",
      "metadata": {
        "id": "3129EJsCjZKN"
      },
      "source": [
        "## Caso 1-1: CROSS_VAL_SCORE\n",
        "\n",
        "Este es el modo más sencillo de apicar Cross_Validation con sklearn. \n",
        "\n",
        "Simplemente calcula el modelo tantas veces como le dices y te regresa cada resultado en un vector. "
      ]
    },
    {
      "cell_type": "code",
      "metadata": {
        "id": "jSgEaFfojYdL",
        "colab": {
          "base_uri": "https://localhost:8080/",
          "height": 52
        },
        "outputId": "f0afc9a2-80bf-4395-8908-9c53de05f21b"
      },
      "source": [
        "clf = svm.SVC(kernel='linear', C=1)\n",
        "scores = cross_val_score(clf, X, y, cv=5, scoring='accuracy')  # 'f1_macro'\n",
        "print(scores)\n",
        "print(\"Accuracy and 95%% confidence interval: %0.2f (+/- %0.2f)\" % (scores.mean(), scores.std() * 2))"
      ],
      "execution_count": null,
      "outputs": [
        {
          "output_type": "stream",
          "text": [
            "[0.96666667 1.         0.96666667 0.96666667 1.        ]\n",
            "Accuracy and 95% confidence interval: 0.98 (+/- 0.03)\n"
          ],
          "name": "stdout"
        }
      ]
    },
    {
      "cell_type": "markdown",
      "metadata": {
        "id": "HKlio1vilf63"
      },
      "source": [
        "Puedes encontrar más opciones de la evaluación en: \n",
        "https://scikit-learn.org/stable/modules/model_evaluation.html#scoring-parameter\n"
      ]
    },
    {
      "cell_type": "markdown",
      "metadata": {
        "id": "ndySSfyy8jJy"
      },
      "source": [
        "## Caso 1-2: SHUFFLE_SPLIT\n",
        "\n",
        "Simplemente repite n_splits veces la partición aleatoria dada por test_size:"
      ]
    },
    {
      "cell_type": "code",
      "metadata": {
        "id": "eyOh1HrK8msW",
        "colab": {
          "base_uri": "https://localhost:8080/",
          "height": 35
        },
        "outputId": "acfa4c51-0042-4d75-b701-ad406f804099"
      },
      "source": [
        "from sklearn.model_selection import ShuffleSplit\n",
        "n_samples = X.shape[0]\n",
        "cv = ShuffleSplit(n_splits=5, test_size=0.3, random_state=0)\n",
        "cross_val_score(clf, X, y, cv=cv)"
      ],
      "execution_count": null,
      "outputs": [
        {
          "output_type": "execute_result",
          "data": {
            "text/plain": [
              "array([0.97777778, 0.97777778, 1.        , 0.95555556, 1.        ])"
            ]
          },
          "metadata": {
            "tags": []
          },
          "execution_count": 43
        }
      ]
    },
    {
      "cell_type": "markdown",
      "metadata": {
        "id": "5dTaybtaD2Tq"
      },
      "source": [
        "## CASO 1-3: KFold:\n",
        "\n",
        "Este genera lo que se llama un iterator_index, es decir, genera los índices de los folds, y estos son los que usamos para aplicarlos a los datos... Es uno de los casos más prácticos para utilizar, ya que te permite manipular la información en cada interación/fold.\n",
        "\n",
        "Observa que los índices generados son consecutivos, por lo que deberás aleatorizar primero todo el conjunto de datos original, que en en este ejemplo en particular ya lo hizo train_test_split() que usaste al inicio."
      ]
    },
    {
      "cell_type": "code",
      "metadata": {
        "id": "z9gbUl1uDyo3",
        "colab": {
          "base_uri": "https://localhost:8080/",
          "height": 884
        },
        "outputId": "3e3d4187-c38c-433b-a14c-f2a9e56a4ea7"
      },
      "source": [
        "kf = KFold(n_splits=5)\n",
        "\n",
        "for train_index, test_index in kf.split(X):\n",
        "  \n",
        "    print(\"\\nTRAIN:\", train_index, \"\\nTEST:\", test_index)\n",
        "    \n",
        "    X_train, X_test = X[train_index], X[test_index]\n",
        "    y_train, y_test = y[train_index], y[test_index]\n",
        "\n",
        "    clf = svm.SVC(kernel='linear', C=1).fit(X_train, y_train)\n",
        "    print(clf.score(X_test, y_test))"
      ],
      "execution_count": null,
      "outputs": [
        {
          "output_type": "stream",
          "text": [
            "\n",
            "TRAIN: [ 30  31  32  33  34  35  36  37  38  39  40  41  42  43  44  45  46  47\n",
            "  48  49  50  51  52  53  54  55  56  57  58  59  60  61  62  63  64  65\n",
            "  66  67  68  69  70  71  72  73  74  75  76  77  78  79  80  81  82  83\n",
            "  84  85  86  87  88  89  90  91  92  93  94  95  96  97  98  99 100 101\n",
            " 102 103 104 105 106 107 108 109 110 111 112 113 114 115 116 117 118 119\n",
            " 120 121 122 123 124 125 126 127 128 129 130 131 132 133 134 135 136 137\n",
            " 138 139 140 141 142 143 144 145 146 147 148 149] TEST: [ 0  1  2  3  4  5  6  7  8  9 10 11 12 13 14 15 16 17 18 19 20 21 22 23\n",
            " 24 25 26 27 28 29]\n",
            "1.0\n",
            "\n",
            "TRAIN: [  0   1   2   3   4   5   6   7   8   9  10  11  12  13  14  15  16  17\n",
            "  18  19  20  21  22  23  24  25  26  27  28  29  60  61  62  63  64  65\n",
            "  66  67  68  69  70  71  72  73  74  75  76  77  78  79  80  81  82  83\n",
            "  84  85  86  87  88  89  90  91  92  93  94  95  96  97  98  99 100 101\n",
            " 102 103 104 105 106 107 108 109 110 111 112 113 114 115 116 117 118 119\n",
            " 120 121 122 123 124 125 126 127 128 129 130 131 132 133 134 135 136 137\n",
            " 138 139 140 141 142 143 144 145 146 147 148 149] TEST: [30 31 32 33 34 35 36 37 38 39 40 41 42 43 44 45 46 47 48 49 50 51 52 53\n",
            " 54 55 56 57 58 59]\n",
            "1.0\n",
            "\n",
            "TRAIN: [  0   1   2   3   4   5   6   7   8   9  10  11  12  13  14  15  16  17\n",
            "  18  19  20  21  22  23  24  25  26  27  28  29  30  31  32  33  34  35\n",
            "  36  37  38  39  40  41  42  43  44  45  46  47  48  49  50  51  52  53\n",
            "  54  55  56  57  58  59  90  91  92  93  94  95  96  97  98  99 100 101\n",
            " 102 103 104 105 106 107 108 109 110 111 112 113 114 115 116 117 118 119\n",
            " 120 121 122 123 124 125 126 127 128 129 130 131 132 133 134 135 136 137\n",
            " 138 139 140 141 142 143 144 145 146 147 148 149] TEST: [60 61 62 63 64 65 66 67 68 69 70 71 72 73 74 75 76 77 78 79 80 81 82 83\n",
            " 84 85 86 87 88 89]\n",
            "0.8666666666666667\n",
            "\n",
            "TRAIN: [  0   1   2   3   4   5   6   7   8   9  10  11  12  13  14  15  16  17\n",
            "  18  19  20  21  22  23  24  25  26  27  28  29  30  31  32  33  34  35\n",
            "  36  37  38  39  40  41  42  43  44  45  46  47  48  49  50  51  52  53\n",
            "  54  55  56  57  58  59  60  61  62  63  64  65  66  67  68  69  70  71\n",
            "  72  73  74  75  76  77  78  79  80  81  82  83  84  85  86  87  88  89\n",
            " 120 121 122 123 124 125 126 127 128 129 130 131 132 133 134 135 136 137\n",
            " 138 139 140 141 142 143 144 145 146 147 148 149] TEST: [ 90  91  92  93  94  95  96  97  98  99 100 101 102 103 104 105 106 107\n",
            " 108 109 110 111 112 113 114 115 116 117 118 119]\n",
            "1.0\n",
            "\n",
            "TRAIN: [  0   1   2   3   4   5   6   7   8   9  10  11  12  13  14  15  16  17\n",
            "  18  19  20  21  22  23  24  25  26  27  28  29  30  31  32  33  34  35\n",
            "  36  37  38  39  40  41  42  43  44  45  46  47  48  49  50  51  52  53\n",
            "  54  55  56  57  58  59  60  61  62  63  64  65  66  67  68  69  70  71\n",
            "  72  73  74  75  76  77  78  79  80  81  82  83  84  85  86  87  88  89\n",
            "  90  91  92  93  94  95  96  97  98  99 100 101 102 103 104 105 106 107\n",
            " 108 109 110 111 112 113 114 115 116 117 118 119] TEST: [120 121 122 123 124 125 126 127 128 129 130 131 132 133 134 135 136 137\n",
            " 138 139 140 141 142 143 144 145 146 147 148 149]\n",
            "0.8666666666666667\n"
          ],
          "name": "stdout"
        }
      ]
    },
    {
      "cell_type": "markdown",
      "metadata": {
        "id": "O6CwGfsnLCu4"
      },
      "source": [
        "## RepeatedKFold\n",
        "\n",
        "Cuando deseas repetir varias veces el KFold:"
      ]
    },
    {
      "cell_type": "code",
      "metadata": {
        "id": "tgcU97PTLCY3",
        "colab": {
          "base_uri": "https://localhost:8080/",
          "height": 1000
        },
        "outputId": "1f72736c-a5fe-4990-aa9f-5fb8f8536148"
      },
      "source": [
        "rkf = RepeatedKFold(n_splits=3, n_repeats=2, random_state=17)\n",
        "for train_index, test_index in rkf.split(X):\n",
        "    print(\"\\nTRAIN:\", train_index, \"TEST:\", test_index)\n",
        "    \n",
        "    X_train, X_test = X[train_index], X[test_index]\n",
        "    y_train, y_test = y[train_index], y[test_index]\n",
        "\n",
        "    clf = svm.SVC(kernel='linear', C=1).fit(X_train, y_train)\n",
        "    print(clf.score(X_test, y_test))"
      ],
      "execution_count": null,
      "outputs": [
        {
          "output_type": "stream",
          "text": [
            "\n",
            "TRAIN: [  1   2   3   4   6   7   8  10  12  13  14  15  17  18  20  21  22  24\n",
            "  25  26  27  30  31  32  33  35  36  39  40  41  42  43  44  45  46  47\n",
            "  49  50  51  52  54  56  57  58  59  60  61  62  63  64  65  68  72  74\n",
            "  76  77  79  82  83  87  88  90  91  93  94 101 102 103 104 105 106 107\n",
            " 108 109 111 114 115 118 119 120 121 122 123 124 128 129 130 131 134 135\n",
            " 136 137 138 139 140 141 143 146 147 148] TEST: [  0   5   9  11  16  19  23  28  29  34  37  38  48  53  55  66  67  69\n",
            "  70  71  73  75  78  80  81  84  85  86  89  92  95  96  97  98  99 100\n",
            " 110 112 113 116 117 125 126 127 132 133 142 144 145 149]\n",
            "0.98\n",
            "\n",
            "TRAIN: [  0   2   5   6   7   8   9  10  11  13  16  17  19  22  23  26  27  28\n",
            "  29  30  31  32  34  37  38  39  41  44  48  49  50  51  53  54  55  56\n",
            "  57  60  61  63  66  67  68  69  70  71  72  73  74  75  78  79  80  81\n",
            "  83  84  85  86  87  88  89  91  92  95  96  97  98  99 100 103 106 107\n",
            " 110 111 112 113 116 117 118 121 122 123 125 126 127 128 129 131 132 133\n",
            " 134 135 138 139 142 143 144 145 146 149] TEST: [  1   3   4  12  14  15  18  20  21  24  25  33  35  36  40  42  43  45\n",
            "  46  47  52  58  59  62  64  65  76  77  82  90  93  94 101 102 104 105\n",
            " 108 109 114 115 119 120 124 130 136 137 140 141 147 148]\n",
            "0.98\n",
            "\n",
            "TRAIN: [  0   1   3   4   5   9  11  12  14  15  16  18  19  20  21  23  24  25\n",
            "  28  29  33  34  35  36  37  38  40  42  43  45  46  47  48  52  53  55\n",
            "  58  59  62  64  65  66  67  69  70  71  73  75  76  77  78  80  81  82\n",
            "  84  85  86  89  90  92  93  94  95  96  97  98  99 100 101 102 104 105\n",
            " 108 109 110 112 113 114 115 116 117 119 120 124 125 126 127 130 132 133\n",
            " 136 137 140 141 142 144 145 147 148 149] TEST: [  2   6   7   8  10  13  17  22  26  27  30  31  32  39  41  44  49  50\n",
            "  51  54  56  57  60  61  63  68  72  74  79  83  87  88  91 103 106 107\n",
            " 111 118 121 122 123 128 129 131 134 135 138 139 143 146]\n",
            "0.94\n",
            "\n",
            "TRAIN: [  0   1   2   3   4   6   8   9  10  12  14  15  16  18  19  20  21  22\n",
            "  23  24  25  26  27  29  31  34  35  36  38  40  42  43  45  46  47  48\n",
            "  49  50  51  52  55  56  57  60  63  66  67  68  69  70  73  74  75  76\n",
            "  77  79  81  83  85  87  89  91  92  93  96  97  98  99 100 102 103 104\n",
            " 106 107 110 112 113 114 115 117 120 121 122 123 124 125 126 127 128 129\n",
            " 132 133 134 135 138 144 145 146 147 149] TEST: [  5   7  11  13  17  28  30  32  33  37  39  41  44  53  54  58  59  61\n",
            "  62  64  65  71  72  78  80  82  84  86  88  90  94  95 101 105 108 109\n",
            " 111 116 118 119 130 131 136 137 139 140 141 142 143 148]\n",
            "1.0\n",
            "\n",
            "TRAIN: [  1   2   3   4   5   7   8  11  13  14  16  17  18  22  24  25  28  30\n",
            "  32  33  34  37  39  41  44  46  47  50  51  52  53  54  56  57  58  59\n",
            "  60  61  62  64  65  66  67  71  72  73  74  75  76  77  78  79  80  82\n",
            "  83  84  85  86  87  88  89  90  93  94  95 101 103 104 105 108 109 110\n",
            " 111 113 114 115 116 117 118 119 120 121 123 124 126 127 129 130 131 132\n",
            " 133 135 136 137 139 140 141 142 143 148] TEST: [  0   6   9  10  12  15  19  20  21  23  26  27  29  31  35  36  38  40\n",
            "  42  43  45  48  49  55  63  68  69  70  81  91  92  96  97  98  99 100\n",
            " 102 106 107 112 122 125 128 134 138 144 145 146 147 149]\n",
            "0.98\n",
            "\n",
            "TRAIN: [  0   5   6   7   9  10  11  12  13  15  17  19  20  21  23  26  27  28\n",
            "  29  30  31  32  33  35  36  37  38  39  40  41  42  43  44  45  48  49\n",
            "  53  54  55  58  59  61  62  63  64  65  68  69  70  71  72  78  80  81\n",
            "  82  84  86  88  90  91  92  94  95  96  97  98  99 100 101 102 105 106\n",
            " 107 108 109 111 112 116 118 119 122 125 128 130 131 134 136 137 138 139\n",
            " 140 141 142 143 144 145 146 147 148 149] TEST: [  1   2   3   4   8  14  16  18  22  24  25  34  46  47  50  51  52  56\n",
            "  57  60  66  67  73  74  75  76  77  79  83  85  87  89  93 103 104 110\n",
            " 113 114 115 117 120 121 123 124 126 127 129 132 133 135]\n",
            "0.98\n"
          ],
          "name": "stdout"
        }
      ]
    },
    {
      "cell_type": "markdown",
      "metadata": {
        "id": "yy7Fqr_L8go_"
      },
      "source": [
        "# Otros..."
      ]
    },
    {
      "cell_type": "markdown",
      "metadata": {
        "id": "QO8E_qf14CSJ"
      },
      "source": [
        "# Stratified KFold cases\n",
        "\n",
        "Para aplicar Cross-Validation con partición estratificada."
      ]
    },
    {
      "cell_type": "code",
      "metadata": {
        "id": "_r6oNRZI4GDU"
      },
      "source": [
        "skf = StratifiedKFold(n_splits=3)"
      ],
      "execution_count": null,
      "outputs": []
    },
    {
      "cell_type": "code",
      "metadata": {
        "id": "IYXQv0hj8vsq",
        "colab": {
          "base_uri": "https://localhost:8080/",
          "height": 537
        },
        "outputId": "41d43330-eeac-4bb3-d349-a83297186e8f"
      },
      "source": [
        "for train_index, test_index in skf.split(X, y):\n",
        "  print(\"\\nTRAIN:\", train_index, \"TEST:\", test_index)\n",
        "\n",
        "  clf = svm.SVC(kernel='linear', C=1).fit(X_train, y_train)\n",
        "  print(clf.score(X_test, y_test))"
      ],
      "execution_count": null,
      "outputs": [
        {
          "output_type": "stream",
          "text": [
            "\n",
            "TRAIN: [ 17  18  19  20  21  22  23  24  25  26  27  28  29  30  31  32  33  34\n",
            "  35  36  37  38  39  40  41  42  43  44  45  46  47  48  49  67  68  69\n",
            "  70  71  72  73  74  75  76  77  78  79  80  81  82  83  84  85  86  87\n",
            "  88  89  90  91  92  93  94  95  96  97  98  99 116 117 118 119 120 121\n",
            " 122 123 124 125 126 127 128 129 130 131 132 133 134 135 136 137 138 139\n",
            " 140 141 142 143 144 145 146 147 148 149] TEST: [  0   1   2   3   4   5   6   7   8   9  10  11  12  13  14  15  16  50\n",
            "  51  52  53  54  55  56  57  58  59  60  61  62  63  64  65  66 100 101\n",
            " 102 103 104 105 106 107 108 109 110 111 112 113 114 115]\n",
            "0.9666666666666667\n",
            "\n",
            "TRAIN: [  0   1   2   3   4   5   6   7   8   9  10  11  12  13  14  15  16  34\n",
            "  35  36  37  38  39  40  41  42  43  44  45  46  47  48  49  50  51  52\n",
            "  53  54  55  56  57  58  59  60  61  62  63  64  65  66  83  84  85  86\n",
            "  87  88  89  90  91  92  93  94  95  96  97  98  99 100 101 102 103 104\n",
            " 105 106 107 108 109 110 111 112 113 114 115 133 134 135 136 137 138 139\n",
            " 140 141 142 143 144 145 146 147 148 149] TEST: [ 17  18  19  20  21  22  23  24  25  26  27  28  29  30  31  32  33  67\n",
            "  68  69  70  71  72  73  74  75  76  77  78  79  80  81  82 116 117 118\n",
            " 119 120 121 122 123 124 125 126 127 128 129 130 131 132]\n",
            "0.9666666666666667\n",
            "\n",
            "TRAIN: [  0   1   2   3   4   5   6   7   8   9  10  11  12  13  14  15  16  17\n",
            "  18  19  20  21  22  23  24  25  26  27  28  29  30  31  32  33  50  51\n",
            "  52  53  54  55  56  57  58  59  60  61  62  63  64  65  66  67  68  69\n",
            "  70  71  72  73  74  75  76  77  78  79  80  81  82 100 101 102 103 104\n",
            " 105 106 107 108 109 110 111 112 113 114 115 116 117 118 119 120 121 122\n",
            " 123 124 125 126 127 128 129 130 131 132] TEST: [ 34  35  36  37  38  39  40  41  42  43  44  45  46  47  48  49  83  84\n",
            "  85  86  87  88  89  90  91  92  93  94  95  96  97  98  99 133 134 135\n",
            " 136 137 138 139 140 141 142 143 144 145 146 147 148 149]\n",
            "0.9666666666666667\n"
          ],
          "name": "stdout"
        }
      ]
    },
    {
      "cell_type": "markdown",
      "metadata": {
        "id": "7cnl1KRoOnRO"
      },
      "source": [
        "# Stratified Shuffle Split"
      ]
    },
    {
      "cell_type": "code",
      "metadata": {
        "id": "kxCwp8WxOsRc"
      },
      "source": [
        "sss = StratifiedShuffleSplit(n_splits=3)"
      ],
      "execution_count": null,
      "outputs": []
    },
    {
      "cell_type": "code",
      "metadata": {
        "id": "-Js1bOwhSdMj",
        "colab": {
          "base_uri": "https://localhost:8080/",
          "height": 537
        },
        "outputId": "ca1934c2-ac17-4377-b0d1-bb72ecca6d64"
      },
      "source": [
        "for train_index, test_index in sss.split(X, y):\n",
        "  print(\"\\nTRAIN:\", train_index, \"TEST:\", test_index)\n",
        "\n",
        "  clf = svm.SVC(kernel='linear', C=1).fit(X_train, y_train)\n",
        "  print(clf.score(X_test, y_test))"
      ],
      "execution_count": null,
      "outputs": [
        {
          "output_type": "stream",
          "text": [
            "\n",
            "TRAIN: [ 54 118 111 106 107 129  39  76  89 109 128  92  25  31 125 116  65  36\n",
            "  87 141  77  47  50 145  73  33 131  28 134 121  53   8  97 110 104  75\n",
            "  42  94   7 138  74  24   6  35  43   4 139  78 100  67  95   2  12 115\n",
            " 147  40  32 148 108  21 127  14  83  17  22  49   9  51  37  44  70  41\n",
            "  34  30  85 149 124  29  64  72 123 117 130  59  84 114  66  57 126  56\n",
            "  90 103  99  81  71 105  60  19 143  48  63  91  13  93 122 101 137 119\n",
            "  20  61  80  68 142  98  58  88  55 112 113 146  69  15  23 144  45   3\n",
            "  46  62  10  38   5  11 140  26 132] TEST: [ 52 102 133  79  18 120  82 136  16  96 135   0  86   1  27]\n",
            "0.98\n",
            "\n",
            "TRAIN: [120  96  70   0   4   8 112  12  61  60  84  58  20  82  35  97  43 103\n",
            " 149 101  33  63  69 119  28  27  42  64  34 136  67  99  89 125   1  73\n",
            "  68  29 147  24  25 111  77   2  39  52  50  54 107 117  38  18 141  90\n",
            "  40  76  44 121 115 143 140 135  41  80  88   7  56 105  94  32  91 146\n",
            "  62 114  37  55 137  75  23  92  93  79 100  36  78  86 129 128  26 130\n",
            " 108 124  66  21   9 106 145  59  98  81  14  17  74  11 102  71 123  47\n",
            "  72  13  49 132   6  45  19 104 127  65  85 134 116 126 142 122  46  22\n",
            "   5 131  15 138 133  95 139   3 148] TEST: [ 83  87  53  16  31 109  57 113  48  10 110 144 118  30  51]\n",
            "0.98\n",
            "\n",
            "TRAIN: [ 88  32  24 135 139  39  34   1 111 119 117  97  35  17  28 121  57  40\n",
            "  56 109  91  47 140   5 144  65 141  83  53  64 114  45 124 125  94 147\n",
            "  66   2 149  11  73 100  62 122  60 132  43  77  82  29 136  26 129  90\n",
            " 105 134  96 118   8  61   3  93  52   7 137  70  13  19 110  86 131 146\n",
            "  63  72  67  95  98  36   9  78  14  71  25  89 112  59  49  87  42  76\n",
            " 143 102  44   0  38  30  79 138 123  99 145 108  54 106  21   6  75  33\n",
            " 148 104 115 113  55  15  27 127  58 120  31  18  81  22  51  46  16 107\n",
            " 133  92  48  12  74 126  80  23 116] TEST: [142  84  41 103 128  10  37 101  69 130  68  50   4  20  85]\n",
            "0.98\n"
          ],
          "name": "stdout"
        }
      ]
    }
  ]
}