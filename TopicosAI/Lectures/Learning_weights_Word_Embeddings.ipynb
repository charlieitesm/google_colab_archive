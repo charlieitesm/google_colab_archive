{
  "nbformat": 4,
  "nbformat_minor": 0,
  "metadata": {
    "colab": {
      "name": "Learning_weights_Word_Embeddings.ipynb",
      "provenance": [],
      "collapsed_sections": []
    },
    "kernelspec": {
      "name": "python3",
      "display_name": "Python 3"
    },
    "accelerator": "GPU"
  },
  "cells": [
    {
      "cell_type": "markdown",
      "metadata": {
        "id": "FmYolKvLbL7v",
        "colab_type": "text"
      },
      "source": [
        "#Learning Word Embeddings with the Embedding layer. "
      ]
    },
    {
      "cell_type": "markdown",
      "metadata": {
        "id": "QaDpnUA4bYmj",
        "colab_type": "text"
      },
      "source": [
        "Libro de F. Chollet, pp. 185 - 187. "
      ]
    },
    {
      "cell_type": "code",
      "metadata": {
        "id": "jR7qvPkZapf_",
        "colab_type": "code",
        "colab": {}
      },
      "source": [
        "from keras.layers import Embedding\n",
        "from keras.datasets import imdb  # base de datos con evaluación de películas.\n",
        "from keras import preprocessing\n",
        "\n",
        "from keras.models import Sequential\n",
        "from keras.layers import Flatten, Dense\n",
        "\n",
        "from sklearn.metrics import classification_report\n",
        "from sklearn.metrics import confusion_matrix\n",
        "from keras.models import load_model"
      ],
      "execution_count": 0,
      "outputs": []
    },
    {
      "cell_type": "markdown",
      "metadata": {
        "id": "R_lh5az-eAYb",
        "colab_type": "text"
      },
      "source": [
        "De la documentación de Keras: Embedding layer: Turns positive integers (indexes) into dense vectors of fixed size."
      ]
    },
    {
      "cell_type": "markdown",
      "metadata": {
        "id": "T0oEKUrthWDM",
        "colab_type": "text"
      },
      "source": [
        "Instantiating an Embedding layer:"
      ]
    },
    {
      "cell_type": "code",
      "metadata": {
        "id": "QwLvJrhlcPK7",
        "colab_type": "code",
        "colab": {}
      },
      "source": [
        "embedding_layer = Embedding(1000, 64)"
      ],
      "execution_count": 0,
      "outputs": []
    },
    {
      "cell_type": "markdown",
      "metadata": {
        "id": "IMYlEMKFgHNQ",
        "colab_type": "text"
      },
      "source": [
        "En este ejemplo consideraremos la base de datos IMDB."
      ]
    },
    {
      "cell_type": "markdown",
      "metadata": {
        "id": "xxnT66aCgJrE",
        "colab_type": "text"
      },
      "source": [
        "Nos restringimos a las max_features=10,000 palabras más comunes."
      ]
    },
    {
      "cell_type": "markdown",
      "metadata": {
        "id": "P6Y6cfk3gSXL",
        "colab_type": "text"
      },
      "source": [
        "Consideraremos únicamente las primeras maxlen=20 palabras de cada reseña."
      ]
    },
    {
      "cell_type": "markdown",
      "metadata": {
        "id": "9AK3veVIgfTy",
        "colab_type": "text"
      },
      "source": [
        "La red aprenderá vectores continuos (word embeddings) de dimensión 8."
      ]
    },
    {
      "cell_type": "code",
      "metadata": {
        "id": "oMgavBhogHCE",
        "colab_type": "code",
        "colab": {}
      },
      "source": [
        "num_words = 10000\n",
        "maxlen = 20"
      ],
      "execution_count": 0,
      "outputs": []
    },
    {
      "cell_type": "code",
      "metadata": {
        "id": "B1fUfptQgAYE",
        "colab_type": "code",
        "colab": {}
      },
      "source": [
        "(x_train,y_train),(x_test,y_test) = imdb.load_data(num_words=num_words)"
      ],
      "execution_count": 0,
      "outputs": []
    },
    {
      "cell_type": "markdown",
      "metadata": {
        "id": "dx_of__eiHOe",
        "colab_type": "text"
      },
      "source": [
        "Observemos que las reseñas de estos datos de IMDB ya están indexadas."
      ]
    },
    {
      "cell_type": "code",
      "metadata": {
        "id": "xMNa9N0-dfzn",
        "colab_type": "code",
        "colab": {}
      },
      "source": [
        "print(x_train[0])"
      ],
      "execution_count": 0,
      "outputs": []
    },
    {
      "cell_type": "markdown",
      "metadata": {
        "id": "RZ26pUFmn8EF",
        "colab_type": "text"
      },
      "source": [
        "Veamos que esta reseña fue positiva:"
      ]
    },
    {
      "cell_type": "code",
      "metadata": {
        "id": "8pottRJon2nQ",
        "colab_type": "code",
        "colab": {}
      },
      "source": [
        "print(y_train[0])"
      ],
      "execution_count": 0,
      "outputs": []
    },
    {
      "cell_type": "markdown",
      "metadata": {
        "id": "9J3eyAwcjXtD",
        "colab_type": "text"
      },
      "source": [
        "Podemos recuperar el texto original de este texto indexado en dado caso, para leer la reseña, pero para el análisisi obviamente no lo rquerimos. Por ejemplo, para obtener el text de la primer reseña:"
      ]
    },
    {
      "cell_type": "code",
      "metadata": {
        "id": "_ppkfKkfjWZY",
        "colab_type": "code",
        "colab": {}
      },
      "source": [
        "idx = imdb.get_word_index()\n",
        "reverse_idx = dict([(value, key) for (key, value) in idx.items()]) \n",
        "decoded = \" \".join( [reverse_idx.get(i - 3, \"#\") for i in x_train[0]] )\n",
        "print(decoded) "
      ],
      "execution_count": 0,
      "outputs": []
    },
    {
      "cell_type": "code",
      "metadata": {
        "id": "DKriNC4xknKx",
        "colab_type": "code",
        "colab": {}
      },
      "source": [
        "x_train = preprocessing.sequence.pad_sequences(x_train, maxlen=maxlen)\n",
        "x_test = preprocessing.sequence.pad_sequences(x_test, maxlen=maxlen)"
      ],
      "execution_count": 0,
      "outputs": []
    },
    {
      "cell_type": "code",
      "metadata": {
        "id": "SWZDqlAUlKxG",
        "colab_type": "code",
        "colab": {}
      },
      "source": [
        "decoded = \" \".join( [reverse_idx.get(i - 3, \"#\") for i in x_train[0]] )\n",
        "print(decoded) "
      ],
      "execution_count": 0,
      "outputs": []
    },
    {
      "cell_type": "markdown",
      "metadata": {
        "id": "tynYjtc_mLOr",
        "colab_type": "text"
      },
      "source": [
        "Definimos el modelo, es decir, nuestra red neuronal con la embedding layer para encontrar sus pesos."
      ]
    },
    {
      "cell_type": "markdown",
      "metadata": {
        "id": "EEbq07P5noTq",
        "colab_type": "text"
      },
      "source": [
        "Como en este ejemplo queremos predecir si la reseña es positiva o negativa, usamo la función sigmoide en la capa de salida."
      ]
    },
    {
      "cell_type": "markdown",
      "metadata": {
        "id": "dx9Wv3pLosHA",
        "colab_type": "text"
      },
      "source": [
        "Recordemos: Diccionario de 10,000 palabras, con secuencias de 20 palabras cada reseña y salida en un vector real continuo de 8 dimensiones."
      ]
    },
    {
      "cell_type": "code",
      "metadata": {
        "id": "wAKKzDzYlyqs",
        "colab_type": "code",
        "colab": {}
      },
      "source": [
        "model = Sequential()\n",
        "model.add( Embedding(10000, 8, input_length=maxlen))\n",
        "\n",
        "model.add(Flatten())\n",
        "\n",
        "model.add( Dense(1, activation='sigmoid'))"
      ],
      "execution_count": 0,
      "outputs": []
    },
    {
      "cell_type": "code",
      "metadata": {
        "id": "ujZ96omXoW7w",
        "colab_type": "code",
        "outputId": "aa6d71c8-3f40-4788-f7bf-32cc7fd83392",
        "colab": {
          "base_uri": "https://localhost:8080/",
          "height": 263
        }
      },
      "source": [
        "model.summary()"
      ],
      "execution_count": 0,
      "outputs": [
        {
          "output_type": "stream",
          "text": [
            "Model: \"sequential_1\"\n",
            "_________________________________________________________________\n",
            "Layer (type)                 Output Shape              Param #   \n",
            "=================================================================\n",
            "embedding_2 (Embedding)      (None, 20, 8)             80000     \n",
            "_________________________________________________________________\n",
            "flatten_1 (Flatten)          (None, 160)               0         \n",
            "_________________________________________________________________\n",
            "dense_1 (Dense)              (None, 1)                 161       \n",
            "=================================================================\n",
            "Total params: 80,161\n",
            "Trainable params: 80,161\n",
            "Non-trainable params: 0\n",
            "_________________________________________________________________\n"
          ],
          "name": "stdout"
        }
      ]
    },
    {
      "cell_type": "code",
      "metadata": {
        "id": "rrRScWY_rEOm",
        "colab_type": "code",
        "colab": {}
      },
      "source": [
        "n_epochs = 10\n",
        "n_batch = 32"
      ],
      "execution_count": 0,
      "outputs": []
    },
    {
      "cell_type": "code",
      "metadata": {
        "id": "tPN_viqppCoH",
        "colab_type": "code",
        "colab": {}
      },
      "source": [
        "model.compile(optimizer='rmsprop', loss='binary_crossentropy', metrics=['acc'])"
      ],
      "execution_count": 0,
      "outputs": []
    },
    {
      "cell_type": "markdown",
      "metadata": {
        "id": "9RQBp0GwuTQT",
        "colab_type": "text"
      },
      "source": [
        "Observa que no se requiere estrictamente usar los datos de prueba para generar los Embeddings. Sin embargo también incluyo esa opción para validar nuestro resultado:"
      ]
    },
    {
      "cell_type": "code",
      "metadata": {
        "id": "iUodat9cpQst",
        "colab_type": "code",
        "colab": {}
      },
      "source": [
        "H = model.fit(x_train, y_train,\n",
        "              epochs=n_epochs,\n",
        "              batch_size=n_batch,\n",
        "              validation_split=0.2)\n"
      ],
      "execution_count": 0,
      "outputs": []
    },
    {
      "cell_type": "code",
      "metadata": {
        "id": "tNNMkF9Tp5q9",
        "colab_type": "code",
        "outputId": "feb3986c-07fb-494e-9a5b-9588a10dc120",
        "colab": {
          "base_uri": "https://localhost:8080/",
          "height": 545
        }
      },
      "source": [
        "import matplotlib.pyplot as plt\n",
        "\n",
        "acc = H.history['acc']\n",
        "val_acc = H.history['val_acc']\n",
        "loss = H.history['loss']\n",
        "val_loss = H.history['val_loss']\n",
        "\n",
        "epochs = range(len(acc))\n",
        "\n",
        "plt.plot(epochs, acc, 'bo', label='Training acc')\n",
        "plt.plot(epochs, val_acc, 'b', label='Validation acc')\n",
        "plt.title('Training and validation accuracy')\n",
        "plt.legend()\n",
        "\n",
        "plt.figure()\n",
        "\n",
        "plt.plot(epochs, loss, 'bo', label='Training loss')\n",
        "plt.plot(epochs, val_loss, 'b', label='Validation loss')\n",
        "plt.title('Training and validation loss')\n",
        "plt.legend()\n",
        "\n",
        "plt.show()"
      ],
      "execution_count": 0,
      "outputs": [
        {
          "output_type": "display_data",
          "data": {
            "image/png": "[encoded data removed]",
            "text/plain": [
              "<Figure size 432x288 with 1 Axes>"
            ]
          },
          "metadata": {
            "tags": [],
            "needs_background": "light"
          }
        },
        {
          "output_type": "display_data",
          "data": {
            "image/png": "[encoded data removed]",
            "text/plain": [
              "<Figure size 432x288 with 1 Axes>"
            ]
          },
          "metadata": {
            "tags": [],
            "needs_background": "light"
          }
        }
      ]
    },
    {
      "cell_type": "markdown",
      "metadata": {
        "id": "0CPHKXcPu0A7",
        "colab_type": "text"
      },
      "source": [
        "Lo que sigue solamente aplica si usaste los datos de Prueba durante el entrenamiento:"
      ]
    },
    {
      "cell_type": "markdown",
      "metadata": {
        "id": "fxqR5ddJtmFn",
        "colab_type": "text"
      },
      "source": [
        "Salvamos el model con los Embeddings:"
      ]
    },
    {
      "cell_type": "code",
      "metadata": {
        "id": "1ndS0FPztkbG",
        "colab_type": "code",
        "colab": {}
      },
      "source": [
        "model.save(\"miEmbedding.h5\")"
      ],
      "execution_count": 0,
      "outputs": []
    },
    {
      "cell_type": "markdown",
      "metadata": {
        "id": "eFgfqzM3t1lh",
        "colab_type": "text"
      },
      "source": [
        "Posteriormente lo podemos recuperar y cargar únicamente los pesos de los embeddings:"
      ]
    },
    {
      "cell_type": "code",
      "metadata": {
        "id": "ETpD_aHbwdT3",
        "colab_type": "code",
        "outputId": "81ede5c3-d434-423b-8a18-52b20e6230da",
        "colab": {
          "base_uri": "https://localhost:8080/",
          "height": 72
        }
      },
      "source": [
        "mymodel = load_model(\"/content/miEmbedding.h5\")"
      ],
      "execution_count": 0,
      "outputs": [
        {
          "output_type": "stream",
          "text": [
            "/usr/local/lib/python3.6/dist-packages/tensorflow/python/framework/indexed_slices.py:434: UserWarning: Converting sparse IndexedSlices to a dense Tensor of unknown shape. This may consume a large amount of memory.\n",
            "  \"Converting sparse IndexedSlices to a dense Tensor of unknown shape. \"\n"
          ],
          "name": "stderr"
        }
      ]
    },
    {
      "cell_type": "code",
      "metadata": {
        "id": "gL-2i9xuxHND",
        "colab_type": "code",
        "outputId": "12ece98b-b206-4b5a-ebe7-97042aa7d0bc",
        "colab": {
          "base_uri": "https://localhost:8080/",
          "height": 263
        }
      },
      "source": [
        "mymodel.summary()"
      ],
      "execution_count": 0,
      "outputs": [
        {
          "output_type": "stream",
          "text": [
            "Model: \"sequential_2\"\n",
            "_________________________________________________________________\n",
            "Layer (type)                 Output Shape              Param #   \n",
            "=================================================================\n",
            "embedding_3 (Embedding)      (None, 20, 8)             80000     \n",
            "_________________________________________________________________\n",
            "flatten_2 (Flatten)          (None, 160)               0         \n",
            "_________________________________________________________________\n",
            "dense_2 (Dense)              (None, 1)                 161       \n",
            "=================================================================\n",
            "Total params: 80,161\n",
            "Trainable params: 80,161\n",
            "Non-trainable params: 0\n",
            "_________________________________________________________________\n"
          ],
          "name": "stdout"
        }
      ]
    }
  ]
}