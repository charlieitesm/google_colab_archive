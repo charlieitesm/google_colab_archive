{
  "nbformat": 4,
  "nbformat_minor": 0,
  "metadata": {
    "colab": {
      "name": "Fashion-MNIST-NN-basico.ipynb",
      "provenance": [],
      "collapsed_sections": []
    },
    "kernelspec": {
      "name": "python3",
      "display_name": "Python 3"
    },
    "accelerator": "GPU"
  },
  "cells": [
    {
      "cell_type": "code",
      "metadata": {
        "id": "Q5Gu0H4QJyTG",
        "colab_type": "code",
        "colab": {}
      },
      "source": [
        "import tensorflow as tf\n",
        "import matplotlib\n",
        "import matplotlib.pyplot as plt\n",
        "import numpy as np\n",
        "from numpy import array\n",
        "from sklearn.metrics import classification_report\n",
        "import time"
      ],
      "execution_count": 0,
      "outputs": []
    },
    {
      "cell_type": "code",
      "metadata": {
        "id": "l5cSFy-DNxb8",
        "colab_type": "code",
        "colab": {}
      },
      "source": [
        "fashion_mnist = tf.keras.datasets.fashion_mnist\n",
        "(x_train,y_train),(x_test,y_test) = fashion_mnist.load_data()"
      ],
      "execution_count": 0,
      "outputs": []
    },
    {
      "cell_type": "code",
      "metadata": {
        "id": "EwR-5mLZN0Uv",
        "colab_type": "code",
        "colab": {}
      },
      "source": [
        "print(x_train.shape)\n",
        "print(x_test.shape)\n",
        "print(y_train.shape)\n",
        "print(y_test.shape)"
      ],
      "execution_count": 0,
      "outputs": []
    },
    {
      "cell_type": "code",
      "metadata": {
        "id": "ZKaHvzlFN2yD",
        "colab_type": "code",
        "colab": {}
      },
      "source": [
        "x_train, x_test = x_train/255.0, x_test/255.0"
      ],
      "execution_count": 0,
      "outputs": []
    },
    {
      "cell_type": "code",
      "metadata": {
        "id": "rxKCT2PhN7Md",
        "colab_type": "code",
        "colab": {}
      },
      "source": [
        "ytrain = tf.keras.utils.to_categorical(y_train)\n",
        "ytest = tf.keras.utils.to_categorical(y_test)"
      ],
      "execution_count": 0,
      "outputs": []
    },
    {
      "cell_type": "code",
      "metadata": {
        "id": "4T4zPDpcOf6H",
        "colab_type": "code",
        "colab": {}
      },
      "source": [
        "labels = [\"T_shirt\",\"Trouser\",\"Pullover\",\"Dress\",\"Coat\",\n",
        "          \"Sandal\",\"Shirt\",\"Sneaker\",\"Bag\",\"Ankle_boot\"]"
      ],
      "execution_count": 0,
      "outputs": []
    },
    {
      "cell_type": "code",
      "metadata": {
        "id": "eJLIU2FSOEOW",
        "colab_type": "code",
        "colab": {}
      },
      "source": [
        "model = tf.keras.models.Sequential([\n",
        "   tf.keras.layers.Flatten(input_shape=(28,28)),\n",
        "\n",
        "   tf.keras.layers.Dense(1024,activation=tf.nn.relu),\n",
        "   \n",
        "   tf.keras.layers.Dense(10,activation=tf.nn.softmax)])"
      ],
      "execution_count": 0,
      "outputs": []
    },
    {
      "cell_type": "code",
      "metadata": {
        "id": "IZdZo_JnOFkS",
        "colab_type": "code",
        "colab": {}
      },
      "source": [
        "model.compile(optimizer='adam', \n",
        "   loss='categorical_crossentropy',\n",
        "   metrics=['accuracy'])"
      ],
      "execution_count": 0,
      "outputs": []
    },
    {
      "cell_type": "code",
      "metadata": {
        "id": "CR-FUBy1OH7P",
        "colab_type": "code",
        "colab": {}
      },
      "source": [
        "n_epochs=20\n",
        "n_batch=128"
      ],
      "execution_count": 0,
      "outputs": []
    },
    {
      "cell_type": "code",
      "metadata": {
        "id": "_lQxSOVDOKO4",
        "colab_type": "code",
        "colab": {}
      },
      "source": [
        "t = time.process_time()\n",
        "H = model.fit(x_train,ytrain, validation_data=(x_test,ytest),\n",
        "              epochs=n_epochs, batch_size=n_batch)\n",
        "print(\"elapsed_time = \", time.process_time() - t)"
      ],
      "execution_count": 0,
      "outputs": []
    },
    {
      "cell_type": "code",
      "metadata": {
        "id": "e2Mzca2VOOnm",
        "colab_type": "code",
        "colab": {}
      },
      "source": [
        "predictions = model.predict(x_test, batch_size=n_batch)"
      ],
      "execution_count": 0,
      "outputs": []
    },
    {
      "cell_type": "code",
      "metadata": {
        "id": "qwMhcD5mOZaZ",
        "colab_type": "code",
        "colab": {}
      },
      "source": [
        "print(classification_report(ytest.argmax(axis=1), \n",
        "      predictions.argmax(axis=1),target_names=labels))"
      ],
      "execution_count": 0,
      "outputs": []
    },
    {
      "cell_type": "code",
      "metadata": {
        "id": "SSxoIRi3On0k",
        "colab_type": "code",
        "colab": {}
      },
      "source": [
        "plt.style.use(\"ggplot\")\n",
        "plt.figure()\n",
        "plt.plot(np.arange(0,n_epochs),H.history[\"accuracy\"],label=\"train_acc\")\n",
        "plt.plot(np.arange(0,n_epochs),H.history[\"val_accuracy\"],label=\"val_acc\")\n",
        "plt.title(\"Training and Validation Accuracy\")\n",
        "plt.xlabel(\"Epoch\")\n",
        "plt.ylabel(\"Accuracy\")\n",
        "plt.legend()\n",
        "\n",
        "plt.figure()\n",
        "plt.plot(np.arange(0,n_epochs),H.history[\"loss\"],label=\"train_loss\") \n",
        "plt.plot(np.arange(0,n_epochs),H.history[\"val_loss\"],label=\"val_loss\")\n",
        "plt.title(\"Training and Validation Loss\")\n",
        "plt.xlabel(\"Epoch\")\n",
        "plt.ylabel(\"Loss\")\n",
        "plt.legend()\n",
        "\n",
        "plt.show()"
      ],
      "execution_count": 0,
      "outputs": []
    }
  ]
}