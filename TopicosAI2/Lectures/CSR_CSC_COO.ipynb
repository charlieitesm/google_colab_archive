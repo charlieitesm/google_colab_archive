{
  "nbformat": 4,
  "nbformat_minor": 0,
  "metadata": {
    "colab": {
      "name": "CSR_CSC_COO.ipynb",
      "provenance": [],
      "collapsed_sections": []
    },
    "kernelspec": {
      "name": "python3",
      "display_name": "Python 3"
    }
  },
  "cells": [
    {
      "cell_type": "markdown",
      "metadata": {
        "id": "vEjtmvzsz1Cj"
      },
      "source": [
        "https://docs.scipy.org/doc/scipy/reference/sparse.html "
      ]
    },
    {
      "cell_type": "code",
      "metadata": {
        "id": "jnkjcTTHrg6t"
      },
      "source": [
        "import numpy as np\r\n",
        "from scipy import sparse"
      ],
      "execution_count": 2,
      "outputs": []
    },
    {
      "cell_type": "code",
      "metadata": {
        "colab": {
          "base_uri": "https://localhost:8080/"
        },
        "id": "PDeZuq3Aq0U1",
        "outputId": "bf1f07d6-5d27-4d7c-94e3-eb2562d52695"
      },
      "source": [
        "A = np.array([[1, 0, 0, 3, 0, 0], [0, 0, 0, 0, 0, 0], \r\n",
        "              [0, 0, 0, 0, 0, 0], [2, 0, 0, 8, 0, 0]], dtype=np.int64)\r\n",
        "A"
      ],
      "execution_count": 9,
      "outputs": [
        {
          "output_type": "execute_result",
          "data": {
            "text/plain": [
              "array([[1, 0, 0, 3, 0, 0],\n",
              "       [0, 0, 0, 0, 0, 0],\n",
              "       [0, 0, 0, 0, 0, 0],\n",
              "       [2, 0, 0, 8, 0, 0]])"
            ]
          },
          "metadata": {
            "tags": []
          },
          "execution_count": 9
        }
      ]
    },
    {
      "cell_type": "code",
      "metadata": {
        "colab": {
          "base_uri": "https://localhost:8080/"
        },
        "id": "84sUKXuprkAn",
        "outputId": "e05408f2-2f4d-48d1-e39a-32d44f7adb98"
      },
      "source": [
        "B = sparse.csr_matrix(A) \r\n",
        "print(B)"
      ],
      "execution_count": 10,
      "outputs": [
        {
          "output_type": "stream",
          "text": [
            "  (0, 0)\t1\n",
            "  (0, 3)\t3\n",
            "  (3, 0)\t2\n",
            "  (3, 3)\t8\n"
          ],
          "name": "stdout"
        }
      ]
    },
    {
      "cell_type": "code",
      "metadata": {
        "colab": {
          "base_uri": "https://localhost:8080/"
        },
        "id": "ZymTUZ30pJYg",
        "outputId": "243796dc-d0fd-4a9c-e722-5605be0313d9"
      },
      "source": [
        "print(B.indptr)\r\n",
        "print(B.indices)\r\n",
        "print(B.data)"
      ],
      "execution_count": 11,
      "outputs": [
        {
          "output_type": "stream",
          "text": [
            "[0 2 2 2 4]\n",
            "[0 3 0 3]\n",
            "[1 3 2 8]\n"
          ],
          "name": "stdout"
        }
      ]
    },
    {
      "cell_type": "code",
      "metadata": {
        "colab": {
          "base_uri": "https://localhost:8080/"
        },
        "id": "GYG2aPZ39Xd6",
        "outputId": "693f7419-6145-45df-d639-7ef693c09a7f"
      },
      "source": [
        "rows, cols = B.nonzero()\r\n",
        "print(rows)\r\n",
        "print(cols)"
      ],
      "execution_count": null,
      "outputs": [
        {
          "output_type": "stream",
          "text": [
            "[0 0 1 2 2 3 3]\n",
            "[0 3 2 1 5 0 3]\n"
          ],
          "name": "stdout"
        }
      ]
    },
    {
      "cell_type": "code",
      "metadata": {
        "colab": {
          "base_uri": "https://localhost:8080/"
        },
        "id": "Bvi_9GsL4Q9z",
        "outputId": "533c8ef6-9e5a-443e-b365-0fe7507b24fc"
      },
      "source": [
        "print(B.data)"
      ],
      "execution_count": null,
      "outputs": [
        {
          "output_type": "stream",
          "text": [
            "(array([0, 0, 1, 2, 2, 3, 3], dtype=int32), array([0, 3, 2, 1, 5, 0, 3], dtype=int32))\n",
            "[ 1  3  7 -1  9  2  8]\n"
          ],
          "name": "stdout"
        }
      ]
    },
    {
      "cell_type": "code",
      "metadata": {
        "colab": {
          "base_uri": "https://localhost:8080/"
        },
        "id": "UhRNHzQY0QkH",
        "outputId": "ed70dcba-fa35-4125-ed35-ebfed5279633"
      },
      "source": [
        "B.todense()"
      ],
      "execution_count": null,
      "outputs": [
        {
          "output_type": "execute_result",
          "data": {
            "text/plain": [
              "matrix([[ 1,  0,  0,  3,  0,  0],\n",
              "        [ 0,  0,  7,  0,  0,  0],\n",
              "        [ 0, -1,  0,  0,  0,  9],\n",
              "        [ 2,  0,  0,  8,  0,  0]], dtype=int64)"
            ]
          },
          "metadata": {
            "tags": []
          },
          "execution_count": 34
        }
      ]
    },
    {
      "cell_type": "code",
      "metadata": {
        "colab": {
          "base_uri": "https://localhost:8080/"
        },
        "id": "i_kUKUcCyUhG",
        "outputId": "fceb30f6-1e7a-4c53-e2dc-f5c25ec0afb4"
      },
      "source": [
        "np.count_nonzero(A)"
      ],
      "execution_count": null,
      "outputs": [
        {
          "output_type": "execute_result",
          "data": {
            "text/plain": [
              "7"
            ]
          },
          "metadata": {
            "tags": []
          },
          "execution_count": 28
        }
      ]
    },
    {
      "cell_type": "code",
      "metadata": {
        "colab": {
          "base_uri": "https://localhost:8080/"
        },
        "id": "S74QI-ocypXD",
        "outputId": "7ef83cbb-7c33-4c6f-c41c-8497532e4847"
      },
      "source": [
        "A.size   # num_rows * num_cols"
      ],
      "execution_count": null,
      "outputs": [
        {
          "output_type": "execute_result",
          "data": {
            "text/plain": [
              "24"
            ]
          },
          "metadata": {
            "tags": []
          },
          "execution_count": 31
        }
      ]
    },
    {
      "cell_type": "code",
      "metadata": {
        "colab": {
          "base_uri": "https://localhost:8080/"
        },
        "id": "WKGAmHMHydHj",
        "outputId": "27a0f6fa-35f2-4d28-c8ea-fd0e0aa82f50"
      },
      "source": [
        "sparsity = 1 - np.count_nonzero(A) / A.size\r\n",
        "sparsity"
      ],
      "execution_count": null,
      "outputs": [
        {
          "output_type": "execute_result",
          "data": {
            "text/plain": [
              "0.7083333333333333"
            ]
          },
          "metadata": {
            "tags": []
          },
          "execution_count": 30
        }
      ]
    },
    {
      "cell_type": "code",
      "metadata": {
        "colab": {
          "base_uri": "https://localhost:8080/"
        },
        "id": "GMyhc58ztJ0_",
        "outputId": "b2b61293-7aa2-4e94-f54f-8eec8a8734c9"
      },
      "source": [
        "C = sparse.csc_matrix(A)\r\n",
        "print(C)"
      ],
      "execution_count": null,
      "outputs": [
        {
          "output_type": "stream",
          "text": [
            "  (0, 0)\t1\n",
            "  (3, 0)\t2\n",
            "  (2, 1)\t-1\n",
            "  (1, 2)\t7\n",
            "  (0, 3)\t3\n",
            "  (3, 3)\t8\n",
            "  (2, 5)\t9\n"
          ],
          "name": "stdout"
        }
      ]
    },
    {
      "cell_type": "code",
      "metadata": {
        "colab": {
          "base_uri": "https://localhost:8080/"
        },
        "id": "k2no-vejvx9g",
        "outputId": "9ac5a3fe-a057-4b11-be75-80f6c51f6b52"
      },
      "source": [
        "print(C.indptr)\r\n",
        "print(C.indices)\r\n",
        "print(C.data)"
      ],
      "execution_count": null,
      "outputs": [
        {
          "output_type": "stream",
          "text": [
            "[0 2 3 4 6 6 7]\n",
            "[0 3 2 1 0 3 2]\n",
            "[ 1  2 -1  7  3  8  9]\n"
          ],
          "name": "stdout"
        }
      ]
    },
    {
      "cell_type": "code",
      "metadata": {
        "colab": {
          "base_uri": "https://localhost:8080/"
        },
        "id": "fQjdhIGitWti",
        "outputId": "36e7c223-6a3d-4c33-d95a-baf699674c65"
      },
      "source": [
        "print(A)"
      ],
      "execution_count": null,
      "outputs": [
        {
          "output_type": "stream",
          "text": [
            "[[ 1  0  0  3  0  0]\n",
            " [ 0  0  7  0  0  0]\n",
            " [ 0 -1  0  0  0  9]\n",
            " [ 2  0  0  8  0  0]]\n"
          ],
          "name": "stdout"
        }
      ]
    },
    {
      "cell_type": "code",
      "metadata": {
        "colab": {
          "base_uri": "https://localhost:8080/"
        },
        "id": "MfM7pb8cuGoc",
        "outputId": "54037202-1a0b-473b-81dc-880a57986f3d"
      },
      "source": [
        "D = sparse.coo_matrix(A, dtype=np.int8)\r\n",
        "print(D)   # ijv format - triplet format"
      ],
      "execution_count": null,
      "outputs": [
        {
          "output_type": "stream",
          "text": [
            "  (0, 0)\t1\n",
            "  (0, 3)\t3\n",
            "  (1, 2)\t7\n",
            "  (2, 1)\t-1\n",
            "  (2, 5)\t9\n",
            "  (3, 0)\t2\n",
            "  (3, 3)\t8\n"
          ],
          "name": "stdout"
        }
      ]
    },
    {
      "cell_type": "code",
      "metadata": {
        "colab": {
          "base_uri": "https://localhost:8080/"
        },
        "id": "S_Jln-KWt3rf",
        "outputId": "902e8033-0c86-4c7b-84bb-fb46f0c1ab80"
      },
      "source": [
        "D = sparse.coo_matrix(A)\r\n",
        "print(D)   "
      ],
      "execution_count": null,
      "outputs": [
        {
          "output_type": "stream",
          "text": [
            "  (0, 0)\t1\n",
            "  (0, 3)\t3\n",
            "  (1, 2)\t7\n",
            "  (2, 1)\t-1\n",
            "  (2, 5)\t9\n",
            "  (3, 0)\t2\n",
            "  (3, 3)\t8\n"
          ],
          "name": "stdout"
        }
      ]
    },
    {
      "cell_type": "code",
      "metadata": {
        "colab": {
          "base_uri": "https://localhost:8080/"
        },
        "id": "V0J-0Rzr3kW0",
        "outputId": "365464c1-10b7-4173-d9e4-fd37b25f188a"
      },
      "source": [
        "print(D.row)\r\n",
        "print(D.col)\r\n",
        "print(D.data)\r\n"
      ],
      "execution_count": null,
      "outputs": [
        {
          "output_type": "stream",
          "text": [
            "[0 0 1 2 2 3 3]\n",
            "[0 3 2 1 5 0 3]\n",
            "[ 1  3  7 -1  9  2  8]\n"
          ],
          "name": "stdout"
        }
      ]
    },
    {
      "cell_type": "code",
      "metadata": {
        "id": "Eo_BZLR4wrel"
      },
      "source": [
        ""
      ],
      "execution_count": null,
      "outputs": []
    },
    {
      "cell_type": "code",
      "metadata": {
        "id": "aZFGi4-IwrVV"
      },
      "source": [
        ""
      ],
      "execution_count": null,
      "outputs": []
    },
    {
      "cell_type": "code",
      "metadata": {
        "colab": {
          "base_uri": "https://localhost:8080/"
        },
        "id": "ve7uStqqul5d",
        "outputId": "023efe73-ff41-4933-f2c2-54605b714d33"
      },
      "source": [
        "E = sparse.dok_matrix(A)\r\n",
        "print(E)\r\n",
        "E.items()"
      ],
      "execution_count": null,
      "outputs": [
        {
          "output_type": "stream",
          "text": [
            "  (0, 0)\t1\n",
            "  (0, 3)\t3\n",
            "  (1, 2)\t7\n",
            "  (2, 1)\t-1\n",
            "  (2, 5)\t9\n",
            "  (3, 0)\t2\n",
            "  (3, 3)\t8\n"
          ],
          "name": "stdout"
        },
        {
          "output_type": "execute_result",
          "data": {
            "text/plain": [
              "dict_items([((0, 0), 1), ((0, 3), 3), ((1, 2), 7), ((2, 1), -1), ((2, 5), 9), ((3, 0), 2), ((3, 3), 8)])"
            ]
          },
          "metadata": {
            "tags": []
          },
          "execution_count": 27
        }
      ]
    }
  ]
}