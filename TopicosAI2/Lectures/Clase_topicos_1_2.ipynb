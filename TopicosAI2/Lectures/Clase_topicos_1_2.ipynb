{
  "nbformat": 4,
  "nbformat_minor": 0,
  "metadata": {
    "colab": {
      "name": "Clase_topicos_1_2.ipynb",
      "provenance": [],
      "collapsed_sections": []
    },
    "kernelspec": {
      "name": "python3",
      "display_name": "Python 3"
    }
  },
  "cells": [
    {
      "cell_type": "markdown",
      "metadata": {
        "id": "76birWof94cN"
      },
      "source": [
        "#**Trabajando con Expresiones Regulares**"
      ]
    },
    {
      "cell_type": "code",
      "metadata": {
        "id": "wVfm_J7yn1UY"
      },
      "source": [
        "from google.colab import drive\r\n",
        "drive.mount('/content/drive')"
      ],
      "execution_count": null,
      "outputs": []
    },
    {
      "cell_type": "code",
      "metadata": {
        "id": "QNc5-kNJoMNf"
      },
      "source": [
        "ls"
      ],
      "execution_count": null,
      "outputs": []
    },
    {
      "cell_type": "code",
      "metadata": {
        "id": "P91ofNljoYLV"
      },
      "source": [
        "# Puedes cambiar tu directorio de trabajo:\r\n",
        "%cd \"/content/drive/My Drive/data/books/\"   "
      ],
      "execution_count": null,
      "outputs": []
    },
    {
      "cell_type": "code",
      "metadata": {
        "id": "5_C_y8GHpXS9"
      },
      "source": [
        "ls"
      ],
      "execution_count": null,
      "outputs": []
    },
    {
      "cell_type": "code",
      "metadata": {
        "id": "WyBIirCvq-vm"
      },
      "source": [
        "import nltk  \r\n",
        "nltk.download('punkt') "
      ],
      "execution_count": null,
      "outputs": []
    },
    {
      "cell_type": "code",
      "metadata": {
        "id": "JDcVU7fmrD-w"
      },
      "source": [
        "f = open(\"kafka_metamorphosis.txt\", \"r\")\r\n",
        "story = f.read()\r\n",
        "story          # string que contiene todo el documento (cuento) de Kafka."
      ],
      "execution_count": null,
      "outputs": []
    },
    {
      "cell_type": "code",
      "metadata": {
        "id": "-vkXD7ItrVcm"
      },
      "source": [
        "len(story)  # Total de caracteres"
      ],
      "execution_count": null,
      "outputs": []
    },
    {
      "cell_type": "markdown",
      "metadata": {
        "id": "TFMlgKF1sRJH"
      },
      "source": [
        "###Tokenizemos el documento por oraciones y estas a su vez por palabras:"
      ]
    },
    {
      "cell_type": "code",
      "metadata": {
        "id": "Tj4kzFEFsGb0"
      },
      "source": [
        "sents = nltk.sent_tokenize(text=story, language='english') \r\n",
        "sents[0:7]     # observa que en estos ejemplos identifica el final de una frase por el \".\" o \"?\""
      ],
      "execution_count": null,
      "outputs": []
    },
    {
      "cell_type": "markdown",
      "metadata": {
        "id": "J9CUZtISt_Au"
      },
      "source": [
        "### Podemos también generar el documento como una lista de palabras usando el método append. \r\n",
        "\r\n",
        "### En este mismo paso podemos aprovechar para transformar todos los caracteres a minúsculas:"
      ]
    },
    {
      "cell_type": "code",
      "metadata": {
        "id": "TIrugWdztoxF"
      },
      "source": [
        "doc = []\r\n",
        "for sent in sents:\r\n",
        "  x = str(sent).split()   # separando por palabras cada frase.\r\n",
        "  for w in x:\r\n",
        "    doc.append(w.lower())    # agregamos cada palabra en minúsculas al documento.\r\n",
        "  \r\n"
      ],
      "execution_count": null,
      "outputs": []
    },
    {
      "cell_type": "markdown",
      "metadata": {
        "id": "tXtSeNAg_389"
      },
      "source": [
        "#Trabajemos con algunos casos de expresiones regulares (RE).\r\n",
        "\r\n",
        "### Recuerda que las RE te ayudarán a buscar cadenas de caracteres específicas, lo cual a su vez te ayudará a preparar el texto de una mejor manera antes de utilizarlo para anlálisis de texto o entrenamiento de algún modelo de aprendizaje.\r\n",
        "\r\n",
        "https://docs.python.org/3/howto/regex.html\r\n"
      ]
    },
    {
      "cell_type": "code",
      "metadata": {
        "id": "es9ez7Kn-XI0"
      },
      "source": [
        "import re"
      ],
      "execution_count": null,
      "outputs": []
    },
    {
      "cell_type": "markdown",
      "metadata": {
        "id": "dFHggcO6Besj"
      },
      "source": [
        "### Puedes utilizar solamente palabras que estén dentro de un diccionario, eliminando nombres propios de personas, lugares, etc.\r\n",
        "\r\n",
        "### En particular, a partir de NLTK se puede utilizar su corpus de documentos en inglés para generar un diccionario de plabras:"
      ]
    },
    {
      "cell_type": "code",
      "metadata": {
        "id": "DN53IxmBCFOz"
      },
      "source": [
        "nltk.download('words')"
      ],
      "execution_count": null,
      "outputs": []
    },
    {
      "cell_type": "code",
      "metadata": {
        "id": "sQPGaHHY-XAV"
      },
      "source": [
        "wordlist = [w for w in nltk.corpus.words.words('en') if w.islower()]"
      ],
      "execution_count": null,
      "outputs": []
    },
    {
      "cell_type": "code",
      "metadata": {
        "id": "zKKJ--ra-8an"
      },
      "source": [
        "len(wordlist)"
      ],
      "execution_count": null,
      "outputs": []
    },
    {
      "cell_type": "code",
      "metadata": {
        "id": "u3dvk7jc-8XU"
      },
      "source": [
        "wordlist[5000:5030]"
      ],
      "execution_count": null,
      "outputs": []
    },
    {
      "cell_type": "code",
      "metadata": {
        "id": "OKjoi08PIA0T"
      },
      "source": [
        "tmp = [w for w in doc if w in wordlist]   # nos quedamos con las palabras de la novela de Kafka que estén también en nuestro diccionario particular."
      ],
      "execution_count": null,
      "outputs": []
    },
    {
      "cell_type": "code",
      "metadata": {
        "id": "U3uUh3yzIh2L"
      },
      "source": [
        "len(tmp)"
      ],
      "execution_count": null,
      "outputs": []
    },
    {
      "cell_type": "markdown",
      "metadata": {
        "id": "RyXDF8PTJG6f"
      },
      "source": [
        "### Observa que uno de los problemas del diccionario es que puede estar incompleto o no contener todas las conjugaciones de una palabra, como se observa a continuación:"
      ]
    },
    {
      "cell_type": "code",
      "metadata": {
        "id": "S0iCv-U4Ij_7"
      },
      "source": [
        "print(doc[0:20])\r\n",
        "print(tmp[0:20])"
      ],
      "execution_count": null,
      "outputs": []
    },
    {
      "cell_type": "markdown",
      "metadata": {
        "id": "XMjRf8ajJ4Dr"
      },
      "source": [
        "### Busquemos por ejemplo todas las palabras que terminen en \"ed\" en la novela de Kafka:\r\n",
        "\r\n",
        "re.search(p,s) : busca todos los patrones \"p\" que coincidan dentro del string \"s\".  \r\n",
        "\r\n",
        "ed$ : palabras (cadenas string) que terminen en \"ed\"."
      ]
    },
    {
      "cell_type": "code",
      "metadata": {
        "id": "zJqZktSBJ-5b"
      },
      "source": [
        "eds = [w for w in doc if re.search('ed$', w)] "
      ],
      "execution_count": null,
      "outputs": []
    },
    {
      "cell_type": "markdown",
      "metadata": {
        "id": "2eCGYuv-VHvC"
      },
      "source": [
        "# Otros casos..."
      ]
    },
    {
      "cell_type": "code",
      "metadata": {
        "id": "7sMw4Ea_VM2z"
      },
      "source": [
        "[w for w in doc if re.search('^.t..$', w)]    # string de 4 caracteres cuyo segundo caracter es \"t\""
      ],
      "execution_count": null,
      "outputs": []
    },
    {
      "cell_type": "markdown",
      "metadata": {
        "id": "PyWl6iOSWmjj"
      },
      "source": [
        "### **Conjunto (set)**\r\n",
        "\r\n",
        "A partir del documento podemos generar un conjunto que contenga solamente strings de manera única, es decir, que no incluya repetición de palabras:"
      ]
    },
    {
      "cell_type": "code",
      "metadata": {
        "id": "5-fY5RLxW9yy"
      },
      "source": [
        "conj = set(doc)\r\n",
        "print(len(doc))\r\n",
        "print(len(conj))"
      ],
      "execution_count": null,
      "outputs": []
    },
    {
      "cell_type": "code",
      "metadata": {
        "id": "hDzq80YZWNz1"
      },
      "source": [
        "[w for w in conj if re.search('^g.[eslva][defg]', w)] # inician con \"g\"; 2° caracter el que sea; \r\n",
        "                                                      # el 3° y 4° los que se indican entre corcheas y del 5° en adelante es opcional."
      ],
      "execution_count": null,
      "outputs": []
    },
    {
      "cell_type": "markdown",
      "metadata": {
        "id": "fq9tf0aKZX45"
      },
      "source": [
        "### Veamos otras variantes:"
      ]
    },
    {
      "cell_type": "code",
      "metadata": {
        "id": "EmaN8v6gZkEC"
      },
      "source": [
        "texto = ['hola, Hola, HOOOOooola, hoolaaaa  ,¡hollla!, holaxx, hola!!!, gato, perro, hospital', 'lol, loool, lllooooll']"
      ],
      "execution_count": null,
      "outputs": []
    },
    {
      "cell_type": "code",
      "metadata": {
        "id": "cbWmgp3NcyOi"
      },
      "source": [
        "txt = []             \r\n",
        "for linea in texto:\r\n",
        "  x = str(linea).split(',')   # para este ejemplo supongamos que separamos las palabras por las comas.\r\n",
        "  txt.append(x)\r\n",
        "\r\n",
        "print(txt)"
      ],
      "execution_count": null,
      "outputs": []
    },
    {
      "cell_type": "markdown",
      "metadata": {
        "id": "5Gv41If5gcYD"
      },
      "source": [
        "Observa que la salida anterior generó espacios en blanco al inicio de algunas palabras. Borremos dichos espacios:"
      ]
    },
    {
      "cell_type": "code",
      "metadata": {
        "id": "bnMifUIeiPhz"
      },
      "source": [
        "d1 = []\r\n",
        "for w in txt[0]:\r\n",
        "    x = re.sub(\"\\s+\",\"\", w)  # cualquier cantidad de espacios en blanco al inicio se sustituyen por vacío, es decir, se eliminan.\r\n",
        "    d1.append(x.lower())\r\n",
        "\r\n",
        "d1"
      ],
      "execution_count": null,
      "outputs": []
    },
    {
      "cell_type": "code",
      "metadata": {
        "id": "uDXkiNAYb5my"
      },
      "source": [
        "[w for w in d1 if re.search('h+o+l+a+', w)]     # podemos eliminar letras repetidas que sabemos no son parte de la palabra."
      ],
      "execution_count": null,
      "outputs": []
    },
    {
      "cell_type": "code",
      "metadata": {
        "id": "8HEbyoK6kUbK"
      },
      "source": [
        "[re.sub('¡*h+o+l+a+\\w*!*', 'hola', w) for w in d1]    # Recuerda que el caracter \"*\" de cerradura de Kleene indica 0 o más apariciones.\r\n",
        "                                                      # El \"+\" indica 1 o más apariciones."
      ],
      "execution_count": null,
      "outputs": []
    },
    {
      "cell_type": "markdown",
      "metadata": {
        "id": "V_ED6Ghja9n0"
      },
      "source": [
        "### Veamos algunos casos con números:"
      ]
    },
    {
      "cell_type": "code",
      "metadata": {
        "id": "fZIvRESEbBvy"
      },
      "source": [
        "numeros = ['1978', '2020', '1990', '2001', '2021', '17530', '10-08-2020', '17-may-2010', 'spider-man', '3.14', '1.3', '45.25', '$10.90', '$7.14']"
      ],
      "execution_count": null,
      "outputs": []
    },
    {
      "cell_type": "code",
      "metadata": {
        "id": "CsXk-g_RnkbS"
      },
      "source": [
        "[w for w in numeros if re.search('^[0-9]{4}$', w)]"
      ],
      "execution_count": null,
      "outputs": []
    },
    {
      "cell_type": "code",
      "metadata": {
        "id": "LmIetNp7oKVZ"
      },
      "source": [
        "[w for w in numeros if re.search('^[0-9]+-[a-z]{3}-[0-9]+$', w)]"
      ],
      "execution_count": null,
      "outputs": []
    },
    {
      "cell_type": "code",
      "metadata": {
        "id": "mK7yfqeopAfZ"
      },
      "source": [
        "[w for w in numeros if re.search('^[0-9]+\\.[0-9]+$', w)]"
      ],
      "execution_count": null,
      "outputs": []
    },
    {
      "cell_type": "code",
      "metadata": {
        "id": "ppGN0SQ8pWQB"
      },
      "source": [
        "[w for w in numeros if re.search('^\\$', w)]"
      ],
      "execution_count": null,
      "outputs": []
    },
    {
      "cell_type": "code",
      "metadata": {
        "id": "RHj9u-AeHmHv"
      },
      "source": [
        ""
      ],
      "execution_count": null,
      "outputs": []
    },
    {
      "cell_type": "code",
      "metadata": {
        "id": "_DOO6Zs5HmE0"
      },
      "source": [
        ""
      ],
      "execution_count": null,
      "outputs": []
    },
    {
      "cell_type": "markdown",
      "metadata": {
        "id": "X6lh59ANKMMA"
      },
      "source": [
        "### Existen documentos precargados en NLTK. En particular veamos las novelas que están en la opción gutenmberg."
      ]
    },
    {
      "cell_type": "code",
      "metadata": {
        "id": "hdxLm1AyHmBo"
      },
      "source": [
        "import nltk  \r\n",
        "nltk.download() "
      ],
      "execution_count": null,
      "outputs": []
    },
    {
      "cell_type": "code",
      "metadata": {
        "id": "dcpCWIXQJ_vH"
      },
      "source": [
        "nltk.corpus.gutenberg.fileids()"
      ],
      "execution_count": null,
      "outputs": []
    },
    {
      "cell_type": "code",
      "metadata": {
        "id": "SylFeTsHKbEH"
      },
      "source": [
        "md = nltk.corpus.gutenberg.words('melville-moby_dick.txt')"
      ],
      "execution_count": null,
      "outputs": []
    },
    {
      "cell_type": "code",
      "metadata": {
        "colab": {
          "base_uri": "https://localhost:8080/"
        },
        "id": "8VgGrlVeKhS_",
        "outputId": "58976fe3-0066-415e-f5ba-466900140bde"
      },
      "source": [
        "len(md)"
      ],
      "execution_count": null,
      "outputs": [
        {
          "output_type": "execute_result",
          "data": {
            "text/plain": [
              "260819"
            ]
          },
          "metadata": {
            "tags": []
          },
          "execution_count": 251
        }
      ]
    },
    {
      "cell_type": "code",
      "metadata": {
        "id": "0fgOkzcSLT_W"
      },
      "source": [
        "xx = list(md) # Podemos ponerlos en un tipo de dato más estándar."
      ],
      "execution_count": null,
      "outputs": []
    },
    {
      "cell_type": "code",
      "metadata": {
        "colab": {
          "base_uri": "https://localhost:8080/"
        },
        "id": "hBNe4JbqLcAV",
        "outputId": "fe809cfe-00b4-4941-efb3-5ab5b85111da"
      },
      "source": [
        "len(xx)"
      ],
      "execution_count": null,
      "outputs": [
        {
          "output_type": "execute_result",
          "data": {
            "text/plain": [
              "260819"
            ]
          },
          "metadata": {
            "tags": []
          },
          "execution_count": 253
        }
      ]
    }
  ]
}