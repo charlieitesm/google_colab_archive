{
  "nbformat": 4,
  "nbformat_minor": 0,
  "metadata": {
    "colab": {
      "name": "Clase_topicos_1_3_stemming_lemmatization.ipynb",
      "provenance": [],
      "collapsed_sections": []
    },
    "kernelspec": {
      "name": "python3",
      "display_name": "Python 3"
    }
  },
  "cells": [
    {
      "cell_type": "markdown",
      "metadata": {
        "id": "1cSL59C1zkTH"
      },
      "source": [
        "#**Stemming y Lemmatization**\r\n",
        "\r\n",
        "### Para el caso de Stemming y Lemmatization existen una gran cantidad de librerías y métodos. \r\n",
        "\r\n",
        "###Veamos unos ejemplos para clarificar los conceptos."
      ]
    },
    {
      "cell_type": "markdown",
      "metadata": {
        "id": "4nVB6R9y82S9"
      },
      "source": [
        "# **Porter stemming algorithm**\r\n",
        "\r\n",
        "### uno de los más populares algoritmos en inglés desarrollado por Martin Porter: https://tartarus.org/martin/PorterStemmer/   "
      ]
    },
    {
      "cell_type": "code",
      "metadata": {
        "id": "393ztBiDzVwN"
      },
      "source": [
        "import nltk\r\n",
        "\r\n",
        "from nltk.stem import PorterStemmer   "
      ],
      "execution_count": 1,
      "outputs": []
    },
    {
      "cell_type": "code",
      "metadata": {
        "id": "QREEl0rB3Ux9"
      },
      "source": [
        "# creamos un objeto de la clase PorterStemmer\r\n",
        "ps = PorterStemmer()"
      ],
      "execution_count": 2,
      "outputs": []
    },
    {
      "cell_type": "code",
      "metadata": {
        "colab": {
          "base_uri": "https://localhost:8080/"
        },
        "id": "WsHCN8ug0-Jc",
        "outputId": "cd0f32d7-fc72-4600-d190-55a31e1f3d2c"
      },
      "source": [
        "# Verbo regular:\r\n",
        "x = ['visits', 'visited', 'visiting']\r\n",
        "\r\n",
        "[ps.stem(w) for w in x]"
      ],
      "execution_count": 3,
      "outputs": [
        {
          "output_type": "execute_result",
          "data": {
            "text/plain": [
              "['visit', 'visit', 'visit']"
            ]
          },
          "metadata": {
            "tags": []
          },
          "execution_count": 3
        }
      ]
    },
    {
      "cell_type": "code",
      "metadata": {
        "colab": {
          "base_uri": "https://localhost:8080/"
        },
        "id": "21PVPjNj4S4d",
        "outputId": "9417af96-8b2a-4d69-d11d-f3db09128ee4"
      },
      "source": [
        "#Verbo irregular:\r\n",
        "y = ['fall', 'fell', 'fallen', 'falling', 'ring', 'rang', 'rung', 'ringing', 'come', 'came', 'coming', 'built']\r\n",
        "\r\n",
        "print([ps.stem(w) for w in y])"
      ],
      "execution_count": 4,
      "outputs": [
        {
          "output_type": "stream",
          "text": [
            "['fall', 'fell', 'fallen', 'fall', 'ring', 'rang', 'rung', 'ring', 'come', 'came', 'come', 'built']\n"
          ],
          "name": "stdout"
        }
      ]
    },
    {
      "cell_type": "code",
      "metadata": {
        "colab": {
          "base_uri": "https://localhost:8080/"
        },
        "id": "TKpE0Kc85cZG",
        "outputId": "7ca8d7aa-547c-4241-b2ee-5ac5fe21262b"
      },
      "source": [
        "# otro tipo de palabras...\r\n",
        "z = ['strange', 'dogs', 'beautiful', 'amazing', 'cats', 'terminator', 'carefully', 'eldest', 'farthest', 'further', 'queries', 'waterbed']\r\n",
        "\r\n",
        "print([ps.stem(w) for w in z])\r\n"
      ],
      "execution_count": 5,
      "outputs": [
        {
          "output_type": "stream",
          "text": [
            "['strang', 'dog', 'beauti', 'amaz', 'cat', 'termin', 'care', 'eldest', 'farthest', 'further', 'queri', 'waterb']\n"
          ],
          "name": "stdout"
        }
      ]
    },
    {
      "cell_type": "markdown",
      "metadata": {
        "id": "X6vbrUyL89Hc"
      },
      "source": [
        "# **Lancaster - Paice/Husk stemming algorithm**\r\n",
        "\r\n",
        "#### Algoritmo desarrollado por Chris D. Paice en la Universidad de Lancaster. \r\n",
        "\r\n",
        "Generalmente reduce más la longitud de una palabra y es más rápido en genral. Podemos decir que es \"más agresivo\" en relación a otros algoritmos, aunque esto pueda generar luego problemas en la interpretación o significado de las salidas generadas."
      ]
    },
    {
      "cell_type": "code",
      "metadata": {
        "id": "Qer94dYq9I-p"
      },
      "source": [
        "from nltk.stem import LancasterStemmer"
      ],
      "execution_count": 6,
      "outputs": []
    },
    {
      "cell_type": "code",
      "metadata": {
        "id": "agZuCoF69om0"
      },
      "source": [
        "ls = LancasterStemmer()"
      ],
      "execution_count": 8,
      "outputs": []
    },
    {
      "cell_type": "code",
      "metadata": {
        "colab": {
          "base_uri": "https://localhost:8080/"
        },
        "id": "_w6JaCi59yFU",
        "outputId": "ee9dcda7-ff4b-4301-d27c-5aaf17aee06b"
      },
      "source": [
        "x = ['visits', 'visited', 'visiting']\r\n",
        "\r\n",
        "[ls.stem(w) for w in x]"
      ],
      "execution_count": 9,
      "outputs": [
        {
          "output_type": "execute_result",
          "data": {
            "text/plain": [
              "['visit', 'visit', 'visit']"
            ]
          },
          "metadata": {
            "tags": []
          },
          "execution_count": 9
        }
      ]
    },
    {
      "cell_type": "code",
      "metadata": {
        "colab": {
          "base_uri": "https://localhost:8080/"
        },
        "id": "01F3Qf-191t7",
        "outputId": "7554d823-94aa-4031-8b29-6be6b6a012c0"
      },
      "source": [
        "y = ['fall', 'fell', 'fallen', 'falling', 'ring', 'rang', 'rung', 'ringing', 'come', 'came', 'coming', 'built', 'were']\r\n",
        "\r\n",
        "print([ls.stem(w) for w in y])"
      ],
      "execution_count": 10,
      "outputs": [
        {
          "output_type": "stream",
          "text": [
            "['fal', 'fel', 'fal', 'fal', 'ring', 'rang', 'rung', 'ring', 'com', 'cam', 'com', 'built', 'wer']\n"
          ],
          "name": "stdout"
        }
      ]
    },
    {
      "cell_type": "code",
      "metadata": {
        "colab": {
          "base_uri": "https://localhost:8080/"
        },
        "id": "NjNjsRAI-BA0",
        "outputId": "c0415629-b7ff-4056-b37a-24a513cd27e1"
      },
      "source": [
        "z = ['strange', 'dogs', 'beautiful', 'amazing', 'cats', 'terminator', 'carefully', 'eldest', 'farthest', 'further', 'queries', 'waterbed']\r\n",
        "\r\n",
        "print([ls.stem(w) for w in z])"
      ],
      "execution_count": 11,
      "outputs": [
        {
          "output_type": "stream",
          "text": [
            "['strange', 'dog', 'beauty', 'amaz', 'cat', 'termin', 'car', 'eldest', 'farthest', 'furth', 'query', 'waterb']\n"
          ],
          "name": "stdout"
        }
      ]
    },
    {
      "cell_type": "markdown",
      "metadata": {
        "id": "BbGiKTkTwgKZ"
      },
      "source": [
        "# **RegexpStemmer stemming algorithm**\r\n",
        "\r\n",
        "### **Rule-base-method**: Lo interesante de este modelo es que puedes construir tus propias reglas y complementarlo con alguno de los otros algoritmos."
      ]
    },
    {
      "cell_type": "code",
      "metadata": {
        "id": "SqOVuooPwxaA"
      },
      "source": [
        "from nltk.stem import RegexpStemmer"
      ],
      "execution_count": 12,
      "outputs": []
    },
    {
      "cell_type": "code",
      "metadata": {
        "id": "La3-0oflxUPJ"
      },
      "source": [
        "# min : longitud mínima del string para que se aplique el criterio de eliminar los regexp indicados:\r\n",
        "rs = RegexpStemmer('ing$|ed$|s$|fall$', min=3)  "
      ],
      "execution_count": 18,
      "outputs": []
    },
    {
      "cell_type": "code",
      "metadata": {
        "id": "859Gfw84yP4w"
      },
      "source": [
        "x = ['visits', 'visited', 'visiting']\r\n",
        "\r\n",
        "[rs.stem(w) for w in x]"
      ],
      "execution_count": null,
      "outputs": []
    },
    {
      "cell_type": "code",
      "metadata": {
        "colab": {
          "base_uri": "https://localhost:8080/"
        },
        "id": "iAfavbdXyWAa",
        "outputId": "3a687c49-597e-4944-d85a-85fbbd1c345e"
      },
      "source": [
        "y = ['fall', 'fell', 'fallen', 'falling', 'ring', 'rang', 'rung', 'ringing', 'come', 'came', 'coming', 'built', 'were']\r\n",
        "\r\n",
        "print([rs.stem(w) for w in y])"
      ],
      "execution_count": 19,
      "outputs": [
        {
          "output_type": "stream",
          "text": [
            "['', 'fell', 'fallen', 'fall', 'r', 'rang', 'rung', 'ring', 'come', 'came', 'com', 'built', 'were']\n"
          ],
          "name": "stdout"
        }
      ]
    },
    {
      "cell_type": "code",
      "metadata": {
        "colab": {
          "base_uri": "https://localhost:8080/"
        },
        "id": "6Zqk8cAuygjw",
        "outputId": "d1cf4b84-9282-49dc-bc90-b372f5b35672"
      },
      "source": [
        "z = ['strange', 'dogs', 'beautiful', 'amazing', 'cats', 'terminator', 'carefully', 'eldest', 'farthest', 'further', 'queries', 'waterbed']\r\n",
        "\r\n",
        "print([rs.stem(w) for w in z])"
      ],
      "execution_count": 17,
      "outputs": [
        {
          "output_type": "stream",
          "text": [
            "['strange', 'dog', 'beautiful', 'amaz', 'cat', 'terminator', 'carefully', 'eldest', 'farthest', 'further', 'querie', 'waterb']\n"
          ],
          "name": "stdout"
        }
      ]
    },
    {
      "cell_type": "markdown",
      "metadata": {
        "id": "Evd9wbyt38sI"
      },
      "source": [
        "### Podemos crear nuestras propias reglas en Español con RegexpStemmer, ya que no depende estrictamente de algún idioma en particular:"
      ]
    },
    {
      "cell_type": "code",
      "metadata": {
        "id": "N4KvWi364D9J"
      },
      "source": [
        "srs = RegexpStemmer('ron$|eiste$|é|ando|ar$', min=5)  "
      ],
      "execution_count": 20,
      "outputs": []
    },
    {
      "cell_type": "code",
      "metadata": {
        "colab": {
          "base_uri": "https://localhost:8080/"
        },
        "id": "jgGE6LGZ4gNQ",
        "outputId": "76322be9-2400-4f4d-a928-e8dff3a37265"
      },
      "source": [
        "x = ['jugar', 'jugando', 'jugué', 'jugaste', 'caminé', 'almorcé', 'fué', 'fueron', 'fuiste', 'aceptar', 'aceptó', 'aceptaron', 'reiste']\r\n",
        "\r\n",
        "print([srs.stem(w) for w in x])"
      ],
      "execution_count": 21,
      "outputs": [
        {
          "output_type": "stream",
          "text": [
            "['jug', 'jug', 'jugu', 'jugaste', 'camin', 'almorc', 'fué', 'fue', 'fuiste', 'acept', 'aceptó', 'acepta', 'r']\n"
          ],
          "name": "stdout"
        }
      ]
    },
    {
      "cell_type": "markdown",
      "metadata": {
        "id": "H_GVf_ebzCDR"
      },
      "source": [
        "# **Snowball - Porter2 stemming algorithm**\r\n",
        "\r\n",
        "### Es un algoritmo que mejora el algoritmo de Porter, principlmente en cuanto al tiempo de cómputo. \r\n",
        "\r\n",
        "###Pero la principal diferencia es que soporta diferentes idiomas, entre ellos el Español."
      ]
    },
    {
      "cell_type": "code",
      "metadata": {
        "id": "ihk3HlEe0jh5"
      },
      "source": [
        "from nltk.stem import SnowballStemmer"
      ],
      "execution_count": 22,
      "outputs": []
    },
    {
      "cell_type": "code",
      "metadata": {
        "colab": {
          "base_uri": "https://localhost:8080/"
        },
        "id": "wV87iCk7caQg",
        "outputId": "29e667f6-2cfe-41ea-bfbd-5aab4c7fd979"
      },
      "source": [
        "print(SnowballStemmer.languages)"
      ],
      "execution_count": 23,
      "outputs": [
        {
          "output_type": "stream",
          "text": [
            "('arabic', 'danish', 'dutch', 'english', 'finnish', 'french', 'german', 'hungarian', 'italian', 'norwegian', 'porter', 'portuguese', 'romanian', 'russian', 'spanish', 'swedish')\n"
          ],
          "name": "stdout"
        }
      ]
    },
    {
      "cell_type": "code",
      "metadata": {
        "id": "r2zFoVQx0_Dw"
      },
      "source": [
        "ss = SnowballStemmer(\"english\")"
      ],
      "execution_count": 24,
      "outputs": []
    },
    {
      "cell_type": "code",
      "metadata": {
        "colab": {
          "base_uri": "https://localhost:8080/"
        },
        "id": "pTWmLOLX1ydh",
        "outputId": "afd59c12-c164-4ca7-cb38-5985a53bfff7"
      },
      "source": [
        "x = ['visits', 'visited', 'visiting']\r\n",
        "\r\n",
        "[ss.stem(w) for w in x]"
      ],
      "execution_count": 25,
      "outputs": [
        {
          "output_type": "execute_result",
          "data": {
            "text/plain": [
              "['visit', 'visit', 'visit']"
            ]
          },
          "metadata": {
            "tags": []
          },
          "execution_count": 25
        }
      ]
    },
    {
      "cell_type": "code",
      "metadata": {
        "colab": {
          "base_uri": "https://localhost:8080/"
        },
        "id": "etcz4GCM11zo",
        "outputId": "5cad57ff-829a-4704-f78a-205aa1a56220"
      },
      "source": [
        "y = ['fall', 'fell', 'fallen', 'falling', 'ring', 'rang', 'rung', 'ringing', 'come', 'came', 'coming', 'built', 'were']\r\n",
        "\r\n",
        "print([ss.stem(w) for w in y])"
      ],
      "execution_count": 26,
      "outputs": [
        {
          "output_type": "stream",
          "text": [
            "['fall', 'fell', 'fallen', 'fall', 'ring', 'rang', 'rung', 'ring', 'come', 'came', 'come', 'built', 'were']\n"
          ],
          "name": "stdout"
        }
      ]
    },
    {
      "cell_type": "code",
      "metadata": {
        "colab": {
          "base_uri": "https://localhost:8080/"
        },
        "id": "w9EXplA619ds",
        "outputId": "5c3b8dc7-d975-4451-fd88-55a9870cce79"
      },
      "source": [
        "z = ['strange', 'dogs', 'beautiful', 'amazing', 'cats', 'terminator', 'carefully', 'eldest', 'farthest', 'further', 'queries', 'waterbed']\r\n",
        "\r\n",
        "print([ss.stem(w) for w in z])"
      ],
      "execution_count": 27,
      "outputs": [
        {
          "output_type": "stream",
          "text": [
            "['strang', 'dog', 'beauti', 'amaz', 'cat', 'termin', 'care', 'eldest', 'farthest', 'further', 'queri', 'waterb']\n"
          ],
          "name": "stdout"
        }
      ]
    },
    {
      "cell_type": "markdown",
      "metadata": {
        "id": "xExutVXp2Pof"
      },
      "source": [
        "### **Veamos algunos casos en Español:**"
      ]
    },
    {
      "cell_type": "code",
      "metadata": {
        "id": "yqzeh4tT2TQI"
      },
      "source": [
        "sss = SnowballStemmer(\"spanish\")"
      ],
      "execution_count": 28,
      "outputs": []
    },
    {
      "cell_type": "code",
      "metadata": {
        "colab": {
          "base_uri": "https://localhost:8080/"
        },
        "id": "VwUovJmM2XaA",
        "outputId": "8e959f0d-e900-4ab7-9138-231ce5731db3"
      },
      "source": [
        "x = ['jugar', 'jugando', 'jugué', 'jugaste', 'jugo', 'caminé', 'almorcé', 'fué', 'fueron', 'fuiste', 'aceptar', 'aceptó', 'aceptaron', 'aceptaste']\r\n",
        "\r\n",
        "print([sss.stem(w) for w in x])"
      ],
      "execution_count": 30,
      "outputs": [
        {
          "output_type": "stream",
          "text": [
            "['jug', 'jug', 'jug', 'jug', 'jug', 'camin', 'almorc', 'fue', 'fueron', 'fuist', 'acept', 'acept', 'acept', 'acept']\n"
          ],
          "name": "stdout"
        }
      ]
    },
    {
      "cell_type": "markdown",
      "metadata": {
        "id": "Yj_R79CTBbWf"
      },
      "source": [
        "#**LEMMATIZATION**\r\n",
        "\r\n",
        "### Se requiere de la base de datos de WordNet "
      ]
    },
    {
      "cell_type": "code",
      "metadata": {
        "id": "aM9UpwOtBfJg"
      },
      "source": [
        "from nltk.stem import WordNetLemmatizer\r\n",
        "nltk.download('wordnet')"
      ],
      "execution_count": null,
      "outputs": []
    },
    {
      "cell_type": "code",
      "metadata": {
        "id": "aLo5zlsqBoIH"
      },
      "source": [
        "wnl = WordNetLemmatizer()"
      ],
      "execution_count": 33,
      "outputs": []
    },
    {
      "cell_type": "code",
      "metadata": {
        "colab": {
          "base_uri": "https://localhost:8080/"
        },
        "id": "jtw9i0MZB2nP",
        "outputId": "0b4ae969-8ce6-48b4-ce69-6fcb86fd688f"
      },
      "source": [
        "y = ['fall', 'fell', 'fallen', 'falling', 'ring', 'rang', 'rung', 'ringing', 'come', 'came', 'coming', 'built', 'were', 'am', 'is']\r\n",
        "\r\n",
        "print([wnl.lemmatize(w) for w in y])"
      ],
      "execution_count": 34,
      "outputs": [
        {
          "output_type": "stream",
          "text": [
            "['fall', 'fell', 'fallen', 'falling', 'ring', 'rang', 'rung', 'ringing', 'come', 'came', 'coming', 'built', 'were', 'am', 'is']\n"
          ],
          "name": "stdout"
        }
      ]
    },
    {
      "cell_type": "markdown",
      "metadata": {
        "id": "C433zO21CZIH"
      },
      "source": [
        "###Observa que no llevó a cabo ninguna modificación, esto es porque requiere la información sintáctica de la palabra. \r\n",
        "\r\n",
        "###La opción predeterminada es \"noun\" (sustantivo).\r\n",
        "\r\n",
        "###En este caso que todos son verbos, veamos como esta información nos ayuda a obtener mejores resultados:"
      ]
    },
    {
      "cell_type": "code",
      "metadata": {
        "colab": {
          "base_uri": "https://localhost:8080/"
        },
        "id": "mg32oOSiCtIy",
        "outputId": "4321ad24-92a5-46dd-d1b0-04cb9818c650"
      },
      "source": [
        "#verbs\r\n",
        "print([wnl.lemmatize(w, pos='v') for w in y])"
      ],
      "execution_count": 35,
      "outputs": [
        {
          "output_type": "stream",
          "text": [
            "['fall', 'fell', 'fall', 'fall', 'ring', 'ring', 'ring', 'ring', 'come', 'come', 'come', 'build', 'be', 'be', 'be']\n"
          ],
          "name": "stdout"
        }
      ]
    },
    {
      "cell_type": "code",
      "metadata": {
        "colab": {
          "base_uri": "https://localhost:8080/"
        },
        "id": "ZDQehaJhC7iv",
        "outputId": "dd9ac459-c01e-4ac9-ec32-7d5cc8235b3e"
      },
      "source": [
        "z = ['stranger', 'dogs', 'beautifully', 'amazing', 'whiter', 'terminator', 'carefully', 'eldest', 'farthest', 'further', 'queries', 'waterbed']\r\n",
        "# verbs\r\n",
        "print([wnl.lemmatize(w, 'v') for w in z])"
      ],
      "execution_count": 36,
      "outputs": [
        {
          "output_type": "stream",
          "text": [
            "['stranger', 'dog', 'beautifully', 'amaze', 'whiter', 'terminator', 'carefully', 'eldest', 'farthest', 'further', 'query', 'waterbed']\n"
          ],
          "name": "stdout"
        }
      ]
    },
    {
      "cell_type": "code",
      "metadata": {
        "colab": {
          "base_uri": "https://localhost:8080/"
        },
        "id": "-DrkmOQ4DQz_",
        "outputId": "d1a184d2-e4bb-48d1-a329-34897ff6d44e"
      },
      "source": [
        "# nouns\r\n",
        "print([wnl.lemmatize(w, 'n') for w in z])"
      ],
      "execution_count": 37,
      "outputs": [
        {
          "output_type": "stream",
          "text": [
            "['stranger', 'dog', 'beautifully', 'amazing', 'whiter', 'terminator', 'carefully', 'eldest', 'farthest', 'further', 'query', 'waterbed']\n"
          ],
          "name": "stdout"
        }
      ]
    },
    {
      "cell_type": "code",
      "metadata": {
        "colab": {
          "base_uri": "https://localhost:8080/"
        },
        "id": "NNHBI19DDemg",
        "outputId": "8c500ab1-2a17-409f-ad3a-fd87ec42df58"
      },
      "source": [
        "# adjectives\r\n",
        "print([wnl.lemmatize(w, 'a') for w in z])"
      ],
      "execution_count": 38,
      "outputs": [
        {
          "output_type": "stream",
          "text": [
            "['strange', 'dogs', 'beautifully', 'amazing', 'white', 'terminator', 'carefully', 'eldest', 'farthest', 'further', 'queries', 'waterbed']\n"
          ],
          "name": "stdout"
        }
      ]
    },
    {
      "cell_type": "code",
      "metadata": {
        "colab": {
          "base_uri": "https://localhost:8080/"
        },
        "id": "G8f0_mOvgIkf",
        "outputId": "36232b5c-2cf9-4ac5-c387-0e5d79369ce1"
      },
      "source": [
        "# adverbios\r\n",
        "print([wnl.lemmatize(w, 'r') for w in z])"
      ],
      "execution_count": 39,
      "outputs": [
        {
          "output_type": "stream",
          "text": [
            "['stranger', 'dogs', 'beautifully', 'amazing', 'whiter', 'terminator', 'carefully', 'eldest', 'farthest', 'far', 'queries', 'waterbed']\n"
          ],
          "name": "stdout"
        }
      ]
    },
    {
      "cell_type": "markdown",
      "metadata": {
        "id": "uNgfhho3q25H"
      },
      "source": [
        "# Presentación tabular:"
      ]
    },
    {
      "cell_type": "code",
      "metadata": {
        "id": "7UNG6YVbq6J8"
      },
      "source": [
        "print(\"{0:20}{1:20}{2:20}\".format(\"Word\",\"Porter Stemmer\",\"lancaster Stemmer\"))\r\n",
        "for word in y:\r\n",
        "    print(\"{0:20}{1:20}{2:20}\".format(word, ps.stem(word),ls.stem(word)))"
      ],
      "execution_count": null,
      "outputs": []
    }
  ]
}