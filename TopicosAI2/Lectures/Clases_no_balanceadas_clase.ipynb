{
  "nbformat": 4,
  "nbformat_minor": 0,
  "metadata": {
    "colab": {
      "name": "Clases_no_balanceadas_clase.ipynb",
      "provenance": [],
      "collapsed_sections": []
    },
    "kernelspec": {
      "name": "python3",
      "display_name": "Python 3"
    },
    "language_info": {
      "name": "python"
    }
  },
  "cells": [
    {
      "cell_type": "code",
      "metadata": {
        "id": "GSDXvab9Blla"
      },
      "source": [
        "from sklearn.datasets import make_classification\n",
        "from collections import Counter\n",
        "from sklearn.model_selection import train_test_split\n",
        "\n",
        "import tensorflow as tf\n",
        "from tensorflow import keras\n",
        "\n",
        "import matplotlib.pyplot as plt\n",
        "import numpy as np\n",
        "\n",
        "from sklearn.metrics import confusion_matrix, classification_report\n",
        "from sklearn.metrics import roc_curve, auc"
      ],
      "execution_count": 1,
      "outputs": []
    },
    {
      "cell_type": "code",
      "metadata": {
        "id": "RnlDMxa-B3C7"
      },
      "source": [
        "X, y = make_classification(n_samples=1000, n_classes=2, random_state=7)"
      ],
      "execution_count": 2,
      "outputs": []
    },
    {
      "cell_type": "code",
      "metadata": {
        "id": "XHC-jlR7T7fV"
      },
      "source": [
        "def porc_part(y):\n",
        "  counter = Counter(y)\n",
        "\n",
        "  for k,v in counter.items():\n",
        "    per = v / len(y) * 100\n",
        "    print('Class=%d, Count=%d, Percentage=%.3f%%' % (k, v, per))\n",
        "\n"
      ],
      "execution_count": 3,
      "outputs": []
    },
    {
      "cell_type": "code",
      "metadata": {
        "id": "flg0uNCqUJpc"
      },
      "source": [
        "porc_part(y)"
      ],
      "execution_count": null,
      "outputs": []
    },
    {
      "cell_type": "code",
      "metadata": {
        "id": "uaeD0lnkCVmk"
      },
      "source": [
        "trainX, valX, trainy, valy = train_test_split(X, y, test_size=0.6, random_state=2)"
      ],
      "execution_count": 5,
      "outputs": []
    },
    {
      "cell_type": "code",
      "metadata": {
        "id": "PakSOPGXUNrB"
      },
      "source": [
        "porc_part(trainy)"
      ],
      "execution_count": null,
      "outputs": []
    },
    {
      "cell_type": "code",
      "metadata": {
        "id": "rBsclxqvUrAs"
      },
      "source": [
        "def mi_modelo(metrica):\n",
        "  model = keras.Sequential([\n",
        "      keras.layers.Dense(64, activation='relu', input_shape=(trainX.shape[-1],)),\n",
        "      #keras.layers.Dropout(0.5),\n",
        "      keras.layers.Dense(64, activation='relu'),\n",
        "      #keras.layers.Dropout(0.5),\n",
        "      keras.layers.Dense(128, activation='relu'),\n",
        "      #keras.layers.Dropout(0.3),\n",
        "      keras.layers.Dense(1, activation='sigmoid')  #, bias_initializer='zeros')\n",
        "      ])\n",
        "  \n",
        "  model.compile(optimizer=keras.optimizers.Adam(learning_rate=1e-5),\n",
        "              loss=keras.losses.BinaryCrossentropy(),\n",
        "              metrics= metrica )\n",
        "  \n",
        "\n",
        "  return model"
      ],
      "execution_count": 7,
      "outputs": []
    },
    {
      "cell_type": "code",
      "metadata": {
        "id": "KEW42MS2VNXs"
      },
      "source": [
        "metrica = 'accuracy'\n",
        "\n",
        "modelo1 = mi_modelo(metrica)"
      ],
      "execution_count": 8,
      "outputs": []
    },
    {
      "cell_type": "code",
      "metadata": {
        "id": "1DroW20QEYiq"
      },
      "source": [
        "N_EPOCHS = 100\n",
        "N_BATCH_SIZE = 32"
      ],
      "execution_count": 12,
      "outputs": []
    },
    {
      "cell_type": "code",
      "metadata": {
        "id": "jFX3lJbHElEx"
      },
      "source": [
        "modelo1.summary()"
      ],
      "execution_count": null,
      "outputs": []
    },
    {
      "cell_type": "code",
      "metadata": {
        "id": "JgGzn3J_FqEM"
      },
      "source": [
        "H = modelo1.fit( trainX, trainy,\n",
        "              batch_size=N_BATCH_SIZE,\n",
        "              epochs=N_EPOCHS,\n",
        "              validation_data=(valX, valy), \n",
        "              verbose=2)"
      ],
      "execution_count": null,
      "outputs": []
    },
    {
      "cell_type": "code",
      "metadata": {
        "id": "a8tZBfLnG6ha"
      },
      "source": [
        "valmetrica = \"val_\" + metrica\n",
        "\n",
        "plt.style.use(\"ggplot\")\n",
        "plt.figure()\n",
        "plt.plot(np.arange(0,N_EPOCHS),H.history[metrica],label=\"train_acc\")\n",
        "plt.plot(np.arange(0,N_EPOCHS),H.history[valmetrica],label=\"val_acc\")\n",
        "plt.title(\"Training and Validation Metric\")\n",
        "plt.xlabel(\"Epoch\")\n",
        "plt.ylabel(\"Accuracy\")\n",
        "plt.legend()\n",
        "\n",
        "plt.figure()\n",
        "plt.plot(np.arange(0,N_EPOCHS),H.history[\"loss\"],label=\"train_loss\") \n",
        "plt.plot(np.arange(0,N_EPOCHS),H.history[\"val_loss\"],label=\"val_loss\")\n",
        "plt.title(\"Training and Validation Loss\")\n",
        "plt.xlabel(\"Epoch\")\n",
        "plt.ylabel(\"Loss\")\n",
        "plt.legend()\n",
        "\n",
        "plt.show()"
      ],
      "execution_count": null,
      "outputs": []
    },
    {
      "cell_type": "code",
      "metadata": {
        "id": "mBuR8GJzP9H7"
      },
      "source": [
        "pred = modelo1.predict(valX, batch_size=N_BATCH_SIZE)\n",
        "pp = pred.squeeze()\n",
        "qq = np.zeros((len(valy),))\n",
        "for k in range(len(pp)):\n",
        "  if(pp[k]>0.5):   # Umbral - curva ROC\n",
        "    qq[k]=1\n",
        "  else:\n",
        "    qq[k]=0\n"
      ],
      "execution_count": 16,
      "outputs": []
    },
    {
      "cell_type": "code",
      "metadata": {
        "id": "U7uEUuY-Oytj"
      },
      "source": [
        "print(classification_report(valy,qq, target_names=[\"0\",\"1\"]))"
      ],
      "execution_count": null,
      "outputs": []
    },
    {
      "cell_type": "code",
      "metadata": {
        "id": "UxVpjnQUappk"
      },
      "source": [
        "confusion_matrix(qq, valy, labels=[0,1])"
      ],
      "execution_count": null,
      "outputs": []
    },
    {
      "cell_type": "markdown",
      "metadata": {
        "id": "Zn1BGjifSk50"
      },
      "source": [
        "#CASO: NO-BALANCEADO:"
      ]
    },
    {
      "cell_type": "code",
      "metadata": {
        "id": "-XcosprjPUtd"
      },
      "source": [
        "X2, y2 = make_classification(n_samples=10000, n_classes=2, weights=(0.9,0.1), random_state=7, n_features=20)"
      ],
      "execution_count": 20,
      "outputs": []
    },
    {
      "cell_type": "code",
      "metadata": {
        "id": "0__rE0x1UWHH"
      },
      "source": [
        "porc_part(y2)"
      ],
      "execution_count": null,
      "outputs": []
    },
    {
      "cell_type": "code",
      "metadata": {
        "id": "i5psMpZITE8l"
      },
      "source": [
        "trainX2, valX2, trainy2, valy2 = train_test_split(X2, y2, train_size=0.6, random_state=2)"
      ],
      "execution_count": 22,
      "outputs": []
    },
    {
      "cell_type": "code",
      "metadata": {
        "id": "4sJx8hEzztzg"
      },
      "source": [
        "trainX2.shape"
      ],
      "execution_count": null,
      "outputs": []
    },
    {
      "cell_type": "code",
      "metadata": {
        "id": "S-5tNzcBxMIK"
      },
      "source": [
        "porc_part(trainy2)"
      ],
      "execution_count": null,
      "outputs": []
    },
    {
      "cell_type": "code",
      "metadata": {
        "id": "4zLRWtE_UZm0"
      },
      "source": [
        "porc_part(valy2)"
      ],
      "execution_count": null,
      "outputs": []
    },
    {
      "cell_type": "markdown",
      "metadata": {
        "id": "prVACBTcwF5-"
      },
      "source": [
        "Ver la siguiente liga para los pesos: class_weight:\n",
        "\n",
        "https://www.tensorflow.org/api_docs/python/tf/keras/Model \n",
        "\n",
        "Así, usando dicha fórmula:\n",
        "\n",
        "\n",
        "weight_for_0 = (1 / neg) * (total / 2.0)\n",
        "\n",
        "weight_for_1 = (1 / pos) * (total / 2.0)\n",
        "\n",
        "class_weight = {0: weight_for_0, 1: weight_for_1}\n",
        "\n"
      ]
    },
    {
      "cell_type": "code",
      "metadata": {
        "id": "gQNFgsgmyh-P"
      },
      "source": [
        "i0, i1 = Counter(trainy2).items()\n",
        "print(i0)\n",
        "print(i1)"
      ],
      "execution_count": null,
      "outputs": []
    },
    {
      "cell_type": "code",
      "metadata": {
        "id": "1ySyTBpJy8j1"
      },
      "source": [
        "neg = i0[1]   # total de elementos de la clase negativa\n",
        "pos = i1[1]   # total de elementos de la clase positiva\n",
        "total = neg + pos"
      ],
      "execution_count": 27,
      "outputs": []
    },
    {
      "cell_type": "code",
      "metadata": {
        "id": "I3X8X4lk0X7l"
      },
      "source": [
        "w_for_0 = (1/neg) * (total/2)\n",
        "w_for_1 = (1/pos) * (total/2)\n",
        "\n",
        "print(w_for_0)\n",
        "print(w_for_1)"
      ],
      "execution_count": null,
      "outputs": []
    },
    {
      "cell_type": "code",
      "metadata": {
        "id": "rI8yTdYHUyx0"
      },
      "source": [
        "N_EPOCHS = 200\n",
        "N_BATCH_SIZE = 256   # revisar bien con el tamaño del val_set, que el BATCH_SIZE no quede demasiado grande\n",
        "\n",
        "metrica2 = 'accuracy'\n",
        "\n",
        "\n",
        "modelo2 = mi_modelo(metrica2)\n",
        "\n",
        "H = modelo2.fit( trainX2, trainy2,\n",
        "              batch_size=N_BATCH_SIZE,\n",
        "              epochs=N_EPOCHS,\n",
        "              validation_data=(valX2, valy2), \n",
        "              #class_weight=                  # {0:w_for_0, 1:w_for_1},  # {0:.1,1:.9},   # Matriz de Pesos para Clases no-balanceadas...\n",
        "              verbose=2)"
      ],
      "execution_count": null,
      "outputs": []
    },
    {
      "cell_type": "code",
      "metadata": {
        "id": "ae4OA6x0WN8c"
      },
      "source": [
        "plt.style.use(\"ggplot\")\n",
        "plt.figure()\n",
        "plt.plot(np.arange(0,N_EPOCHS),H.history['accuracy'],label=\"train_acc\")\n",
        "plt.plot(np.arange(0,N_EPOCHS),H.history['val_accuracy'],label=\"val_acc\")\n",
        "plt.title(\"Training and Validation Metric\")\n",
        "plt.xlabel(\"Epoch\")\n",
        "plt.ylabel(\"Accuracy\")\n",
        "plt.legend()\n",
        "\n",
        "plt.figure()\n",
        "plt.plot(np.arange(0,N_EPOCHS),H.history[\"loss\"],label=\"train_loss\") \n",
        "plt.plot(np.arange(0,N_EPOCHS),H.history[\"val_loss\"],label=\"val_loss\")\n",
        "plt.title(\"Training and Validation Loss\")\n",
        "plt.xlabel(\"Epoch\")\n",
        "plt.ylabel(\"Loss\")\n",
        "plt.legend()\n",
        "\n",
        "plt.show()"
      ],
      "execution_count": null,
      "outputs": []
    },
    {
      "cell_type": "code",
      "metadata": {
        "id": "DsQn22uzWT3j"
      },
      "source": [
        "pred = modelo2.predict(valX2, batch_size=N_BATCH_SIZE)  #.ravel()\n",
        "pp = pred.squeeze()\n",
        "qq = np.zeros((len(valy2),))\n",
        "for k in range(len(pp)):\n",
        "  if(pp[k]>0.5):\n",
        "    qq[k]=1\n",
        "  else:\n",
        "    qq[k]=0\n",
        "\n",
        "print(classification_report(valy2,qq, target_names=[\"0\",\"1\"]))"
      ],
      "execution_count": null,
      "outputs": []
    },
    {
      "cell_type": "code",
      "metadata": {
        "id": "APCM_IKVWvSl"
      },
      "source": [
        "cm = confusion_matrix(qq, valy2, labels=[0,1])\n",
        "cm"
      ],
      "execution_count": null,
      "outputs": []
    },
    {
      "cell_type": "code",
      "metadata": {
        "id": "4GhvkCc8ix6l"
      },
      "source": [
        "tt = cm[0,0]+cm[1,1]+cm[0,1]+cm[1,0]\n",
        "print(\"FP: \", cm[1,0]/tt)\n",
        "print(\"FN: \", cm[0,1]/tt)\n",
        "\n",
        "print(\"\\nTP_rate: \", cm[1,1]/(cm[1,1]+cm[0,1]))\n",
        "print(\"\\nFP_rate: \", cm[1,0]/(cm[0,0]+cm[1,0]))"
      ],
      "execution_count": null,
      "outputs": []
    },
    {
      "cell_type": "markdown",
      "metadata": {
        "id": "WY6wnicWOE8P"
      },
      "source": [
        "###CURVA-ROC"
      ]
    },
    {
      "cell_type": "code",
      "metadata": {
        "id": "OjKr4URj5SLd"
      },
      "source": [
        "fpr_rf, tpr_rf, thresholds_rf = roc_curve(valy2, pp)\n",
        "auc_rf = auc(fpr_rf, tpr_rf)"
      ],
      "execution_count": 45,
      "outputs": []
    },
    {
      "cell_type": "code",
      "metadata": {
        "id": "3OJu8LNv5QuY"
      },
      "source": [
        "plt.figure()\n",
        "plt.plot([0, 1], [0, 1], 'k--')\n",
        "#plt.plot(fpr_keras, tpr_keras, label='Keras (area = {:.3f})'.format(auc_keras))\n",
        "plt.plot(fpr_rf, tpr_rf, label='RF (area = {:.3f})'.format(auc_rf))\n",
        "plt.xlabel('False positive rate')\n",
        "plt.ylabel('True positive rate')\n",
        "plt.title('ROC curve')\n",
        "plt.legend(loc='best')\n",
        "plt.show()"
      ],
      "execution_count": null,
      "outputs": []
    },
    {
      "cell_type": "markdown",
      "metadata": {
        "id": "X1iuJfJR_74v"
      },
      "source": [
        "#F-beta-score"
      ]
    },
    {
      "cell_type": "code",
      "metadata": {
        "id": "I7CzmEPZBxXQ"
      },
      "source": [
        "TN = cm[0,0]\n",
        "TP = cm[1,1]\n",
        "FN = cm[0,1]\n",
        "FP = cm[1,0]"
      ],
      "execution_count": 47,
      "outputs": []
    },
    {
      "cell_type": "code",
      "metadata": {
        "id": "Zj22VTap_-Sv"
      },
      "source": [
        "fbeta2 = 5*TP / (5*TP+FP+4*FN)  # se pone mayor importancia a minimizar los FN\n",
        "fbeta2"
      ],
      "execution_count": null,
      "outputs": []
    },
    {
      "cell_type": "code",
      "metadata": {
        "id": "sbwziXmEE8PH"
      },
      "source": [
        "fbeta_5 = 1.25*TP / (1.25*TP+FP+0.25*FN)   # se pone mayor importancia a minimizar los FP\n",
        "fbeta_5"
      ],
      "execution_count": null,
      "outputs": []
    }
  ]
}