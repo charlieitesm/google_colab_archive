{
 "cells": [
  {
   "cell_type": "markdown",
   "metadata": {},
   "source": [
    "# Ejemplo con alguno de los principales métodos Embedding\n",
    "\n",
    "### En particular con estos vectores pre-entrenados se puede ilustrar el ejemplo King - man + woman = Queen "
   ]
  },
  {
   "cell_type": "markdown",
   "metadata": {},
   "source": [
    "## Word2Vec - 1st method - Google\n",
    "\n",
    "https://code.google.com/archive/p/word2vec/"
   ]
  },
  {
   "cell_type": "markdown",
   "metadata": {},
   "source": [
    "El descargado de los archivos de los ejemplos que veremos puede llevarse algo de tiempo.\n",
    "El archivo GoogleNews-vectors-negative300.bin.gz de word2vec es de aproximadamente 3.6 GB."
   ]
  },
  {
   "cell_type": "code",
   "execution_count": null,
   "metadata": {},
   "outputs": [],
   "source": [
    "#Primero bajas el archivo de los embeddings Word2Vec:\n",
    "#!wget https://s3.amazonaws.com/dl4j-distribution/GoogleNews-vectors-negative300.bin.gz"
   ]
  },
  {
   "cell_type": "code",
   "execution_count": null,
   "metadata": {},
   "outputs": [],
   "source": [
    "#Y lo descompactas para obtener el binario:\n",
    "#!gunzip GoogleNews-vectors-negative300.bin"
   ]
  },
  {
   "cell_type": "code",
   "execution_count": 3,
   "metadata": {},
   "outputs": [],
   "source": [
    "# Para este caso usaremos la librería Gensim: https://radimrehurek.com/gensim/ \n",
    "\n",
    "#!pip install gensim"
   ]
  },
  {
   "cell_type": "code",
   "execution_count": 1,
   "metadata": {},
   "outputs": [
    {
     "name": "stderr",
     "output_type": "stream",
     "text": [
      "/usr/local/lib/python3.6/dist-packages/gensim/similarities/__init__.py:15: UserWarning: The gensim.similarities.levenshtein submodule is disabled, because the optional Levenshtein package <https://pypi.org/project/python-Levenshtein/> is unavailable. Install Levenhstein (e.g. `pip install python-Levenshtein`) to suppress this warning.\n",
      "  warnings.warn(msg)\n"
     ]
    }
   ],
   "source": [
    "import gensim"
   ]
  },
  {
   "cell_type": "code",
   "execution_count": 2,
   "metadata": {},
   "outputs": [],
   "source": [
    "# Ahora sí cargamos los vectores previamente entrenados por Google... puede tardar un poco en cargarlos...:\n",
    "\n",
    "model = gensim.models.KeyedVectors.load_word2vec_format(\n",
    "    '/workspace/micarpeta/misdatos/GoogleNews-vectors-negative300.bin', \n",
    "    binary=True\n",
    ")"
   ]
  },
  {
   "cell_type": "code",
   "execution_count": 4,
   "metadata": {},
   "outputs": [],
   "source": [
    "king = model['king']"
   ]
  },
  {
   "cell_type": "code",
   "execution_count": 9,
   "metadata": {},
   "outputs": [
    {
     "name": "stdout",
     "output_type": "stream",
     "text": [
      "(300,)\n",
      "[ 0.12597656  0.02978516  0.00860596  0.13964844 -0.02563477]\n"
     ]
    }
   ],
   "source": [
    "print(king.shape)\n",
    "print(king[0:5])"
   ]
  },
  {
   "cell_type": "code",
   "execution_count": 11,
   "metadata": {},
   "outputs": [
    {
     "name": "stdout",
     "output_type": "stream",
     "text": [
      "[('queen', 0.7118193507194519), ('monarch', 0.6189674139022827), ('princess', 0.5902431011199951), ('crown_prince', 0.5499460697174072), ('prince', 0.5377321839332581), ('kings', 0.5236844420433044), ('Queen_Consort', 0.5235945582389832), ('queens', 0.5181134343147278), ('sultan', 0.5098593831062317), ('monarchy', 0.5087411999702454)]\n"
     ]
    }
   ],
   "source": [
    "# Aquii vamos con el famoso ejemplo: \n",
    "#                   king - man + woman = queen\n",
    "\n",
    "print(model.most_similar(positive=['king', 'woman'], negative=['man']))"
   ]
  },
  {
   "cell_type": "code",
   "execution_count": 12,
   "metadata": {},
   "outputs": [
    {
     "name": "stdout",
     "output_type": "stream",
     "text": [
      "0.76640123\n",
      "0.12847973\n"
     ]
    }
   ],
   "source": [
    "print(model.similarity('woman', 'man'))\n",
    "print(model.similarity('king', 'woman'))"
   ]
  },
  {
   "cell_type": "markdown",
   "metadata": {},
   "source": [
    "# GloVe - 2nd method - Standford\n",
    "\n",
    "https://nlp.stanford.edu/projects/glove/"
   ]
  },
  {
   "cell_type": "code",
   "execution_count": null,
   "metadata": {},
   "outputs": [],
   "source": [
    "# Aquí usaremos la librería de nlp para los embeddings de Glove:\n",
    "https://spacy.io/ "
   ]
  },
  {
   "cell_type": "code",
   "execution_count": 38,
   "metadata": {},
   "outputs": [],
   "source": [
    "#!pip install -U spacy"
   ]
  },
  {
   "cell_type": "code",
   "execution_count": 39,
   "metadata": {},
   "outputs": [],
   "source": [
    "#!python3 -m spacy download en_core_web_lg"
   ]
  },
  {
   "cell_type": "code",
   "execution_count": 20,
   "metadata": {},
   "outputs": [],
   "source": [
    "import spacy\n",
    "import en_core_web_lg\n",
    "from scipy.spatial import distance\n",
    "import numpy as np"
   ]
  },
  {
   "cell_type": "code",
   "execution_count": 16,
   "metadata": {},
   "outputs": [],
   "source": [
    "nlp = en_core_web_lg.load()"
   ]
  },
  {
   "cell_type": "code",
   "execution_count": 17,
   "metadata": {},
   "outputs": [],
   "source": [
    "# Podemos también introducir todas las palabras involucradas en un enunciado:\n",
    "\n",
    "doc = nlp(\"king queen woman man\")"
   ]
  },
  {
   "cell_type": "code",
   "execution_count": 18,
   "metadata": {},
   "outputs": [
    {
     "data": {
      "text/plain": [
       "0.72526103"
      ]
     },
     "execution_count": 18,
     "metadata": {},
     "output_type": "execute_result"
    }
   ],
   "source": [
    "# similaridad entre king y queen:\n",
    "\n",
    "doc[0].similarity(doc[1])"
   ]
  },
  {
   "cell_type": "code",
   "execution_count": 19,
   "metadata": {},
   "outputs": [
    {
     "data": {
      "text/plain": [
       "0.26556593"
      ]
     },
     "execution_count": 19,
     "metadata": {},
     "output_type": "execute_result"
    }
   ],
   "source": [
    "# similaridad entre king y woman:\n",
    "doc[0].similarity(doc[2])"
   ]
  },
  {
   "cell_type": "markdown",
   "metadata": {},
   "source": [
    "En ocasiones hay que multiplicar por escalares algunos vectores para obtener mejores resultados, sobre todo cuando se tienen vectores paralelos entre sí..."
   ]
  },
  {
   "cell_type": "code",
   "execution_count": 21,
   "metadata": {},
   "outputs": [
    {
     "name": "stdout",
     "output_type": "stream",
     "text": [
      "[ 0.712754   -0.20624     0.05630401  0.62922996 -0.33405    -0.32917994\n",
      "  0.35588    -0.63176     0.03896999  1.9828997  -0.7717     -0.036082\n",
      " -0.4219134  -0.2288734  -0.39632398 -0.257362   -0.538078    1.04298\n",
      " -0.564305    0.35007    -0.12709999  0.89014995 -0.91889    -0.61249\n",
      " -0.70478     0.790441   -0.18181998 -0.03685001 -0.83111995  0.34461606\n",
      " -0.05571002  0.61666995  0.3444     -0.704682    0.99318     0.37484598\n",
      " -0.43377    -0.8651601  -0.54863     0.1090004   1.0698     -0.12551999\n",
      " -0.329508   -0.52566     0.40131795 -0.38313898 -0.45103902  0.5648801\n",
      "  0.67260003 -0.55907404 -1.459715    0.35917002 -0.58002    -0.96379596\n",
      "  0.19972001  0.5178399  -0.00740319 -0.502858   -0.927108    0.41625696\n",
      "  0.02304001 -1.0703499   0.411865    0.43028998  0.50001407  0.7369099\n",
      "  0.93891     0.50217795  0.756953    0.23161    -0.42280996 -0.19461\n",
      " -1.087724    0.12665     1.61252     0.04894301 -0.04629004  0.58300996\n",
      "  0.448102   -0.86739296 -0.68719417 -0.407184   -0.88712007  0.513582\n",
      " -0.5338015   0.678855    1.0362101   0.45754394 -0.31702    -0.86063004\n",
      " -0.02147341  0.81462     0.12008002 -0.528702    1.02117    -1.15104\n",
      " -0.221182    0.43844     0.04237399  0.77424     0.921932    0.8156\n",
      "  0.515476   -0.313804    0.06624901 -0.94483995 -0.86281997 -0.23981702\n",
      "  0.48082605 -0.184096    0.203906    1.15384     0.10549003 -0.545992\n",
      " -0.503206   -0.96126497  0.33238602  0.739965    1.383044    0.09423003\n",
      " -0.56043     0.192231    0.51900005 -0.19419003  0.455299    0.66353196\n",
      "  0.50204     0.257327   -0.6816306   0.514544   -1.01512    -0.701032\n",
      " -0.63922    -0.55219    -0.23665202 -1.00889    -1.09737     0.577294\n",
      " -0.33644998  0.49992996 -1.6265001  -0.452923    0.35173202 -0.79591\n",
      " -0.891613   -0.01112899  0.09036002  0.20274001 -0.886219   -0.44322002\n",
      " -0.06967008 -0.20698941 -0.12711     0.44138     0.09337401 -0.34375\n",
      "  0.73676    -0.83576    -0.23478997  0.262774   -0.80574     0.18039\n",
      "  0.115173    0.0480001   0.39586002 -0.743496    0.27953     1.26447\n",
      "  0.02864398  0.56857    -0.43562996 -0.224492    0.77301997  0.104294\n",
      " -0.613      -0.30851    -0.11213005 -0.634412   -1.12716     0.4937728\n",
      "  0.04360002  0.12090999  0.0784546  -0.56244     1.04811     0.72278\n",
      " -0.26959997 -0.03518003  0.11319098  0.3831799  -0.98041    -1.231298\n",
      "  0.34901702 -0.26732     0.19950294 -0.75210804 -0.02887601  0.47989997\n",
      " -0.21093199 -0.77209     1.029588    0.67914     0.12088302 -0.44349504\n",
      " -0.39888     0.08614999  0.10369995  0.012515   -0.217942   -0.07600001\n",
      " -0.87852997  0.14471996 -0.790228    0.750828    0.03240001  0.29619998\n",
      " -1.0300256   0.59468204 -0.07810885  0.62222004 -0.08980399 -1.137161\n",
      "  0.84707004 -0.04750998  0.26669604 -0.11590999  0.974131   -0.621532\n",
      " -0.15400001  0.514468   -0.01688     0.06722601  0.81991    -0.43675798\n",
      " -0.004251   -1.0333412   0.074193   -0.52663     0.19303396 -0.91326404\n",
      " -0.63347    -0.43526     0.383785   -1.22629     0.32994998 -1.033294\n",
      "  0.53292     0.250238   -0.45511997 -1.592846    0.20560598  0.14691004\n",
      "  0.522222   -0.36308402 -0.62874603  0.71247     0.02236211 -0.00386199\n",
      " -1.014086    1.0027305   0.07915601  0.159747   -0.282928    0.01453\n",
      "  0.68508    -0.5432899   0.47516     0.20378003 -1.8465899  -0.573444\n",
      " -1.7437772  -0.509552   -0.5324      0.30831602  0.02890983 -0.49822003\n",
      " -0.16333002  0.07460397 -0.12395996  0.33765602  1.520348    1.03001\n",
      "  0.97325003 -0.614696   -0.50276005  1.15393    -0.50983     0.436448\n",
      " -0.30247596 -0.143794    0.61971796  0.37448996  0.44599    -0.58421993\n",
      " -0.22471005  0.65788496 -0.662608   -0.256194    1.1464701  -0.652544  ]\n"
     ]
    }
   ],
   "source": [
    "v =  doc[0].vector - (doc[3].vector*2) + (doc[2].vector*2)\n",
    "\n",
    "print(v)"
   ]
  },
  {
   "cell_type": "code",
   "execution_count": 26,
   "metadata": {},
   "outputs": [],
   "source": [
    "# En lugar de buscar en todo el conjunto de vectores pre-entrenados de GLove, lo buscamos en \n",
    "# nuestro enunciado que introducimos al inicio:\n",
    "\n",
    "vectors = [token.vector for token in doc]\n",
    "vectors = np.array(vectors)"
   ]
  },
  {
   "cell_type": "code",
   "execution_count": 27,
   "metadata": {},
   "outputs": [
    {
     "name": "stdout",
     "output_type": "stream",
     "text": [
      "[[ 0.31542  -0.35068   0.42923  ...  0.11427   0.58221  -0.10559 ]\n",
      " [ 0.4095   -0.22693   0.25362  ... -0.34563   0.12043  -0.36494 ]\n",
      " [ 0.025567  0.27885  -0.16992  ... -0.018582 -0.10128  -0.34728 ]\n",
      " [-0.1731    0.20663   0.016543 ...  0.16665  -0.38341  -0.073803]]\n"
     ]
    }
   ],
   "source": [
    "print(vectors)   # estos son los vectors 300-dimensionales de nuestras 4 palabras: king, queen, woman man, respectivamente:"
   ]
  },
  {
   "cell_type": "code",
   "execution_count": 28,
   "metadata": {},
   "outputs": [
    {
     "name": "stdout",
     "output_type": "stream",
     "text": [
      "queen\n"
     ]
    }
   ],
   "source": [
    "# Ahora buscamos con cual de estos se encuentra más cercano el vector \"v=king-man+woman\": \n",
    "\n",
    "closest_index = distance.cdist(np.expand_dims(v, axis = 0), vectors, metric = 'cosine').argmin()\n",
    "output_word = doc[closest_index].text\n",
    "\n",
    "print(output_word)"
   ]
  },
  {
   "cell_type": "markdown",
   "metadata": {},
   "source": [
    "## FastText - 3rd method - Facebook\n",
    "\n",
    "https://github.com/facebookresearch/fastText"
   ]
  },
  {
   "cell_type": "code",
   "execution_count": 22,
   "metadata": {},
   "outputs": [],
   "source": [
    "#!pip install Cython --install-option=\"--no-cython-compile\""
   ]
  },
  {
   "cell_type": "code",
   "execution_count": 23,
   "metadata": {},
   "outputs": [],
   "source": [
    "#!pip install fasttext"
   ]
  },
  {
   "cell_type": "markdown",
   "metadata": {},
   "source": [
    "Usaremos el los vectores embedding previamente entrenamos para 157 idiomas:\n",
    "\n",
    "https://fasttext.cc/docs/en/crawl-vectors.html\n",
    "\n",
    "https://arxiv.org/abs/1802.06893"
   ]
  },
  {
   "cell_type": "code",
   "execution_count": 24,
   "metadata": {},
   "outputs": [],
   "source": [
    "import fasttext\n",
    "import fasttext.util"
   ]
  },
  {
   "cell_type": "code",
   "execution_count": 40,
   "metadata": {},
   "outputs": [],
   "source": [
    "# ... se toma su tiempo... unos 5-10 minutes:\n",
    "\n",
    "#fasttext.util.download_model('en', if_exists='ignore')  # English\n"
   ]
  },
  {
   "cell_type": "code",
   "execution_count": 28,
   "metadata": {},
   "outputs": [],
   "source": [
    "#fasttext.util.download_model('es', if_exists='ignore')   # Espagnol"
   ]
  },
  {
   "cell_type": "code",
   "execution_count": 29,
   "metadata": {},
   "outputs": [
    {
     "name": "stderr",
     "output_type": "stream",
     "text": [
      "Warning : `load_model` does not return WordVectorModel or SupervisedModel any more, but a `FastText` object which is very similar.\n"
     ]
    }
   ],
   "source": [
    "ft = fasttext.load_model('cc.en.300.bin')"
   ]
  },
  {
   "cell_type": "code",
   "execution_count": 30,
   "metadata": {},
   "outputs": [
    {
     "data": {
      "text/plain": [
       "array([-2.63642855e-02, -4.38338369e-02, -5.22461310e-02,  2.49765869e-02,\n",
       "        1.59946546e-01,  4.98980191e-03,  2.51637166e-03, -1.62712112e-02,\n",
       "       -6.62135556e-02, -1.67888845e-03, -1.39499649e-01, -5.72493225e-02,\n",
       "       -1.45975351e-01, -1.56568401e-02,  3.75731173e-03,  8.14326331e-02,\n",
       "        9.02080238e-02, -6.22668210e-03, -1.21208653e-01,  8.42568502e-02,\n",
       "        6.83858395e-02,  1.01658493e-01, -5.07243127e-02,  9.16049480e-02,\n",
       "        5.08386921e-03,  6.28780201e-02,  5.67676872e-02,  1.91132650e-01,\n",
       "        4.35085818e-02,  1.80901110e-01, -1.74744725e-02,  7.06654340e-02,\n",
       "       -6.06337450e-02,  3.89074199e-02,  1.44602428e-03, -1.25214964e-01,\n",
       "        8.63592885e-03, -7.98915625e-02, -1.00960366e-01,  4.66771051e-02,\n",
       "        5.39167747e-02,  4.82006092e-03, -2.03307956e-01, -1.17739499e-01,\n",
       "       -1.37199834e-01, -4.92817685e-02, -1.87217459e-01, -7.17959851e-02,\n",
       "       -1.86646730e-02, -9.93231237e-02, -5.15213236e-02, -1.93316743e-01,\n",
       "       -8.94939303e-02, -1.71539113e-01, -1.03669807e-01, -7.04649240e-02,\n",
       "        1.29511207e-01,  5.56146055e-02, -4.56965044e-02, -7.34248012e-03,\n",
       "        6.97860867e-02,  1.69947833e-01,  3.10327169e-02,  5.91522716e-02,\n",
       "       -8.91570747e-02,  1.04047880e-01, -5.08228168e-02,  1.56981260e-01,\n",
       "        1.38354123e-01, -9.97450016e-03,  2.92297285e-02,  2.03259155e-01,\n",
       "       -3.15062096e-03, -6.43643364e-02, -2.74570972e-01,  1.08004212e-01,\n",
       "       -7.50373602e-02, -3.31273973e-02,  1.68551207e-02,  3.04881241e-02,\n",
       "       -3.62115651e-02,  8.74452889e-02,  1.11329509e-02,  2.68645063e-02,\n",
       "       -7.08571821e-03, -2.58087125e-02, -4.53866273e-03, -6.63428903e-02,\n",
       "       -5.25312535e-02, -2.38072332e-02, -1.16000466e-01,  1.33487135e-01,\n",
       "       -2.33370923e-02,  1.01321653e-01, -2.84816176e-02,  6.99471235e-02,\n",
       "        5.94794080e-02, -3.12442761e-02,  9.96296033e-02, -9.60462987e-02,\n",
       "       -3.27447765e-02,  1.32649690e-01, -7.74053261e-02, -3.05452459e-02,\n",
       "       -4.82974909e-02, -9.31103155e-03,  4.92358953e-02,  1.27702221e-01,\n",
       "        1.52136413e-02, -6.89754635e-02,  3.81627008e-02,  1.48964554e-01,\n",
       "        2.59358287e-02,  3.15686166e-02, -3.75460275e-02, -3.22045460e-02,\n",
       "        6.52550533e-03,  6.29867092e-02, -4.78249863e-02, -8.24730843e-02,\n",
       "       -3.23293060e-02, -1.20065711e-01,  2.90956944e-02,  6.78243339e-02,\n",
       "        8.16046149e-02,  2.02703606e-02, -1.39618635e-01,  9.63046476e-02,\n",
       "       -1.42421201e-01, -4.51344661e-02, -1.27089359e-02,  1.10854320e-02,\n",
       "       -3.85885164e-02,  2.25833915e-02, -1.08815163e-01, -1.36975110e-01,\n",
       "        9.15990099e-02,  1.36979327e-01,  2.05856919e-01,  1.61201283e-02,\n",
       "       -8.97449777e-02, -8.50699991e-02,  1.80081427e-02, -1.45724982e-01,\n",
       "       -6.40569925e-02, -2.87944600e-02, -1.85657188e-01, -1.05159611e-01,\n",
       "        8.60162973e-02, -1.19275272e-01,  3.13830888e-03,  4.35946211e-02,\n",
       "       -2.94638574e-02, -5.80169484e-02, -7.43187964e-02, -6.81279004e-02,\n",
       "        4.28178627e-03,  2.47925576e-02, -5.52196279e-02,  4.89809215e-02,\n",
       "        2.41583195e-02, -5.86985052e-03,  1.50820628e-01, -1.71622664e-01,\n",
       "       -2.79987380e-02, -8.41945410e-02,  2.45981030e-02, -5.13311736e-02,\n",
       "        8.11809674e-02, -4.38897684e-02, -3.67027484e-02,  8.58394802e-02,\n",
       "        1.89167447e-02,  9.81604904e-02, -2.10215524e-02, -9.18451697e-02,\n",
       "        4.16197814e-02,  3.72997858e-02, -2.53814217e-02,  7.56689906e-02,\n",
       "       -5.52651398e-02,  5.15166819e-02,  5.78585193e-02, -1.13078147e-01,\n",
       "       -1.31233573e-01,  1.98879652e-02,  5.17351776e-02, -1.33150861e-01,\n",
       "        8.34213104e-03, -3.06397229e-02,  2.26650923e-01,  1.93806678e-01,\n",
       "        2.68921461e-02, -7.12896511e-02,  6.03743792e-02,  9.77210030e-02,\n",
       "        6.09308891e-02, -2.61368863e-02, -5.99689856e-02, -5.24861179e-02,\n",
       "       -4.83104885e-02,  7.28225857e-02, -1.82350785e-01, -5.07587008e-02,\n",
       "        6.97027445e-02, -1.01331189e-01,  1.07080504e-01,  1.28510892e-01,\n",
       "        9.44370925e-02, -1.64818019e-03,  3.74368392e-02,  2.60068737e-02,\n",
       "       -1.58898175e-01,  4.27626036e-02, -1.41406000e-01, -1.06626293e-02,\n",
       "       -8.82082805e-02,  1.92979965e-02,  5.96629195e-02,  5.97821996e-02,\n",
       "       -5.79583198e-02,  3.44996750e-02, -6.58642352e-02,  4.48877513e-02,\n",
       "       -1.86586022e-01, -1.24391131e-01,  1.32317677e-01, -4.36709300e-02,\n",
       "       -4.57718074e-02, -2.56884605e-01, -9.85114276e-02, -1.60375610e-04,\n",
       "        1.09038558e-02,  1.38050532e-02,  9.97474417e-02,  5.01477830e-02,\n",
       "        1.03953376e-01,  1.58712223e-01,  7.36273751e-02, -8.92454609e-02,\n",
       "       -2.21837722e-02, -1.07683539e-02, -5.13628125e-02, -1.06365465e-01,\n",
       "        1.24920994e-01, -2.97540985e-02,  3.98862213e-02, -4.22692448e-02,\n",
       "       -9.01315361e-02,  4.86209616e-02,  2.54198909e-02, -9.57448930e-02,\n",
       "       -3.86590175e-02,  2.03618214e-01,  1.18185788e-01,  5.32859191e-02,\n",
       "       -2.04965442e-01, -2.05633745e-01, -6.00707345e-02, -1.80176944e-02,\n",
       "       -2.09152456e-02, -7.20111728e-02, -4.49218564e-02,  4.39144894e-02,\n",
       "       -5.37205487e-03,  4.73969951e-02, -8.87135863e-02,  2.18831580e-02,\n",
       "        2.87797116e-02, -1.29535403e-02, -1.03977367e-01,  7.81352371e-02,\n",
       "       -1.22202337e-01, -1.03033511e-02, -6.56237006e-02, -9.67411846e-02,\n",
       "       -6.48837984e-02, -3.11636981e-02, -9.04959068e-02, -2.95870658e-02,\n",
       "        4.36350964e-02,  7.04264343e-02, -5.88431470e-02, -6.41893744e-02,\n",
       "        3.23273055e-02, -2.15162765e-02, -5.02031967e-02,  5.04927151e-02,\n",
       "        7.30866790e-02, -4.80472436e-03, -6.68786094e-02, -9.35646519e-02,\n",
       "       -2.37394542e-01,  7.00090528e-02,  5.92781082e-02,  1.29139364e-01,\n",
       "       -2.11542413e-01,  2.16273785e-01, -8.78579915e-02, -2.73688175e-02],\n",
       "      dtype=float32)"
      ]
     },
     "execution_count": 30,
     "metadata": {},
     "output_type": "execute_result"
    }
   ],
   "source": [
    "ft.get_word_vector('king')"
   ]
  },
  {
   "cell_type": "code",
   "execution_count": 31,
   "metadata": {},
   "outputs": [
    {
     "data": {
      "text/plain": [
       "[(0.7550359964370728, 'kings'),\n",
       " (0.7068519592285156, 'queen'),\n",
       " (0.7060439586639404, 'king-'),\n",
       " (0.6811205148696899, 'king.'),\n",
       " (0.660710871219635, 'king.The'),\n",
       " (0.6591265797615051, 'King'),\n",
       " (0.6495252251625061, 'prince'),\n",
       " (0.6278106570243835, '-king'),\n",
       " (0.6183920502662659, 'monarch'),\n",
       " (0.6070184707641602, 'queen-mother')]"
      ]
     },
     "execution_count": 31,
     "metadata": {},
     "output_type": "execute_result"
    }
   ],
   "source": [
    "ft.get_nearest_neighbors('king')"
   ]
  },
  {
   "cell_type": "code",
   "execution_count": 36,
   "metadata": {},
   "outputs": [
    {
     "data": {
      "text/plain": [
       "[(0.8240686655044556, 'spiderman'),\n",
       " (0.7895693778991699, 'Spider-man'),\n",
       " (0.7026702165603638, 'Spiderman'),\n",
       " (0.6991036534309387, 'Spidey'),\n",
       " (0.6901348829269409, 'Spider-Man'),\n",
       " (0.670944094657898, 'spidey'),\n",
       " (0.6565964221954346, 'x-men'),\n",
       " (0.6427714824676514, 'xmen'),\n",
       " (0.6398128271102905, 'webslinging'),\n",
       " (0.6341536045074463, 'webslinger')]"
      ]
     },
     "execution_count": 36,
     "metadata": {},
     "output_type": "execute_result"
    }
   ],
   "source": [
    "ft.get_nearest_neighbors('spider-man')"
   ]
  },
  {
   "cell_type": "code",
   "execution_count": 37,
   "metadata": {},
   "outputs": [
    {
     "data": {
      "text/plain": [
       "[(0.45614171028137207, 'wonder-ful'),\n",
       " (0.3804067373275757, 'wonder-workers'),\n",
       " (0.37949901819229126, 'wonderdog'),\n",
       " (0.3745538890361786, 'wonderkind'),\n",
       " (0.3724863827228546, 'wonder-struck'),\n",
       " (0.36367306113243103, 'wonder-worker'),\n",
       " (0.3623429238796234, 'wondere'),\n",
       " (0.3536047041416168, 'super-woman'),\n",
       " (0.35171133279800415, 'argumentEAANECREEethicsevolutionfine-tuning'),\n",
       " (0.3515596389770508, 'wonder-working')]"
      ]
     },
     "execution_count": 37,
     "metadata": {},
     "output_type": "execute_result"
    }
   ],
   "source": [
    "ft.get_nearest_neighbors('wonder-woman')   "
   ]
  },
  {
   "cell_type": "code",
   "execution_count": null,
   "metadata": {},
   "outputs": [],
   "source": []
  }
 ],
 "metadata": {
  "kernelspec": {
   "display_name": "Python 3",
   "language": "python",
   "name": "python3"
  },
  "language_info": {
   "codemirror_mode": {
    "name": "ipython",
    "version": 3
   },
   "file_extension": ".py",
   "mimetype": "text/x-python",
   "name": "python",
   "nbconvert_exporter": "python",
   "pygments_lexer": "ipython3",
   "version": "3.6.9"
  }
 },
 "nbformat": 4,
 "nbformat_minor": 4
}
