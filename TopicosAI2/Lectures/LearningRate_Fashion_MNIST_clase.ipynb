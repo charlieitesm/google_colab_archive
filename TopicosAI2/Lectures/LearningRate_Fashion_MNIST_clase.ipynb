{
  "nbformat": 4,
  "nbformat_minor": 0,
  "metadata": {
    "colab": {
      "name": "LearningRate_Fashion-MNIST_clase.ipynb",
      "provenance": [],
      "collapsed_sections": []
    },
    "kernelspec": {
      "name": "python3",
      "display_name": "Python 3"
    },
    "accelerator": "GPU"
  },
  "cells": [
    {
      "cell_type": "markdown",
      "metadata": {
        "id": "SUwqUUOsVTSv"
      },
      "source": [
        "#LeNet-5 Fashion-MNIST - Learning Rate example"
      ]
    },
    {
      "cell_type": "code",
      "metadata": {
        "id": "Q5Gu0H4QJyTG"
      },
      "source": [
        "import tensorflow as tf\n",
        "import matplotlib\n",
        "import matplotlib.pyplot as plt\n",
        "import numpy as np\n",
        "from numpy import array\n",
        "from sklearn.metrics import classification_report\n",
        "from keras.callbacks import LearningRateScheduler"
      ],
      "execution_count": 1,
      "outputs": []
    },
    {
      "cell_type": "code",
      "metadata": {
        "id": "l5cSFy-DNxb8"
      },
      "source": [
        "fashion_mnist = tf.keras.datasets.fashion_mnist\n",
        "(x_train,y_train),(x_test,y_test) = fashion_mnist.load_data()"
      ],
      "execution_count": null,
      "outputs": []
    },
    {
      "cell_type": "code",
      "metadata": {
        "id": "EwR-5mLZN0Uv",
        "colab": {
          "base_uri": "https://localhost:8080/"
        },
        "outputId": "94554ad8-2f2e-42d9-a70c-d65af2298812"
      },
      "source": [
        "print(x_train.shape)\n",
        "print(x_test.shape)\n",
        "print(y_train.shape)\n",
        "print(y_test.shape)"
      ],
      "execution_count": 3,
      "outputs": [
        {
          "output_type": "stream",
          "text": [
            "(60000, 28, 28)\n",
            "(10000, 28, 28)\n",
            "(60000,)\n",
            "(10000,)\n"
          ],
          "name": "stdout"
        }
      ]
    },
    {
      "cell_type": "markdown",
      "metadata": {
        "id": "qxq7MPhLVp8i"
      },
      "source": [
        "Normalizing to [0, 1]:"
      ]
    },
    {
      "cell_type": "code",
      "metadata": {
        "id": "ZKaHvzlFN2yD"
      },
      "source": [
        "x_train, x_test = x_train/255.0, x_test/255.0"
      ],
      "execution_count": 4,
      "outputs": []
    },
    {
      "cell_type": "markdown",
      "metadata": {
        "id": "mbaJ55ahVwQo"
      },
      "source": [
        "Transform labels to one-hot encoding:"
      ]
    },
    {
      "cell_type": "code",
      "metadata": {
        "id": "rxKCT2PhN7Md"
      },
      "source": [
        "ytrain = tf.keras.utils.to_categorical(y_train)\n",
        "ytest = tf.keras.utils.to_categorical(y_test)"
      ],
      "execution_count": 5,
      "outputs": []
    },
    {
      "cell_type": "markdown",
      "metadata": {
        "id": "pG-cOJSyV5Bh"
      },
      "source": [
        "Assigning names to the labels:"
      ]
    },
    {
      "cell_type": "code",
      "metadata": {
        "id": "4T4zPDpcOf6H"
      },
      "source": [
        "labels = [\"T_shirt\",\"Trouser\",\"Pullover\",\"Dress\",\"Coat\",\n",
        "          \"Sandal\",\"Shirt\",\"Sneaker\",\"Bag\",\"Ankle_boot\"]"
      ],
      "execution_count": 6,
      "outputs": []
    },
    {
      "cell_type": "markdown",
      "metadata": {
        "id": "s9rf6girV9JX"
      },
      "source": [
        "Reshape the dataset into 4D dimension array:"
      ]
    },
    {
      "cell_type": "code",
      "metadata": {
        "id": "rbiZ3Zy9WAHH"
      },
      "source": [
        "x_train = x_train.reshape(x_train.shape[0], 28,28,1)\n",
        "x_test = x_test.reshape(x_test.shape[0], 28,28,1)"
      ],
      "execution_count": 7,
      "outputs": []
    },
    {
      "cell_type": "code",
      "metadata": {
        "id": "YLUzt559WZFC",
        "colab": {
          "base_uri": "https://localhost:8080/"
        },
        "outputId": "392e2a3f-0bd1-49e1-b285-9c913cfb0d30"
      },
      "source": [
        "print(x_train.shape)\n",
        "print(x_test.shape)"
      ],
      "execution_count": 8,
      "outputs": [
        {
          "output_type": "stream",
          "text": [
            "(60000, 28, 28, 1)\n",
            "(10000, 28, 28, 1)\n"
          ],
          "name": "stdout"
        }
      ]
    },
    {
      "cell_type": "code",
      "metadata": {
        "id": "eJLIU2FSOEOW"
      },
      "source": [
        "model = tf.keras.models.Sequential([\n",
        "                                    \n",
        "   tf.keras.layers.Conv2D(filters=6, kernel_size=(5,5), strides=(1,1), padding='same', activation='sigmoid'),\n",
        "   tf.keras.layers.BatchNormalization(axis=-1), \n",
        "   tf.keras.layers.MaxPooling2D(pool_size=(2,2), strides=(2,2), padding='valid'),\n",
        "\n",
        "   tf.keras.layers.Conv2D(filters=16, kernel_size=(5,5), strides=(1,1), activation='sigmoid', padding='valid'),\n",
        "   tf.keras.layers.BatchNormalization(axis=-1),\n",
        "   tf.keras.layers.MaxPooling2D(pool_size=(2,2), strides=(2,2), padding='valid'),\n",
        "\n",
        "   tf.keras.layers.Flatten(),\n",
        "\n",
        "   tf.keras.layers.Dense(120, activation='tanh'),\n",
        "   tf.keras.layers.BatchNormalization(axis=-1),\n",
        "\n",
        "   tf.keras.layers.Dense(84, activation='tanh'),\n",
        "\n",
        "   tf.keras.layers.Dense(10, activation=tf.nn.softmax)\n",
        "   ])"
      ],
      "execution_count": 9,
      "outputs": []
    },
    {
      "cell_type": "code",
      "metadata": {
        "id": "CR-FUBy1OH7P"
      },
      "source": [
        "n_epochs=3\n",
        "n_batch=32"
      ],
      "execution_count": 11,
      "outputs": []
    },
    {
      "cell_type": "markdown",
      "metadata": {
        "id": "kFuZ2z6_kodK"
      },
      "source": [
        "##**Caso-1: Learning Rate: Valor constante del learning_rate**"
      ]
    },
    {
      "cell_type": "code",
      "metadata": {
        "id": "JXHQ8E53wAG0"
      },
      "source": [
        "lr_inicial=0.01"
      ],
      "execution_count": 10,
      "outputs": []
    },
    {
      "cell_type": "code",
      "metadata": {
        "id": "QXqIL2fnkaut"
      },
      "source": [
        "opt1 = tf.keras.optimizers.SGD(lr=lr_inicial)"
      ],
      "execution_count": 18,
      "outputs": []
    },
    {
      "cell_type": "markdown",
      "metadata": {
        "id": "1Ce2gPqJ0CnU"
      },
      "source": [
        "##**Caso-2: Learning Rate con decaimiento de acuerdo al total de epochs:**\n",
        "\n",
        "###**lr=lro*(1/(1+decay * iterations))**"
      ]
    },
    {
      "cell_type": "code",
      "metadata": {
        "id": "Gzlr6nUm0OHr"
      },
      "source": [
        "opt2 = tf.keras.optimizers.SGD(lr=lr_inicial, decay= lr_inicial/n_epochs )\n"
      ],
      "execution_count": 19,
      "outputs": []
    },
    {
      "cell_type": "markdown",
      "metadata": {
        "id": "B6wcZsiMqPIp"
      },
      "source": [
        "##**Caso-3: Learning Rate with lr = lro * STEP_DECAY**\n",
        "\n",
        "###Podemos definir que vaya disminuyendo cada 5 épocas de manera más drástica.\n"
      ]
    },
    {
      "cell_type": "code",
      "metadata": {
        "id": "a3JDnLCHqOQt"
      },
      "source": [
        "def step_decay(epoch):\n",
        "  alfa_0 = 0.01\n",
        "  factor = 2.718\n",
        "  dropEvery = 5\n",
        "\n",
        "  alfa = alfa_0 * (factor ** np.floor( (1+epoch)/dropEvery) )\n",
        "\n",
        "  return float(alfa)"
      ],
      "execution_count": 33,
      "outputs": []
    },
    {
      "cell_type": "code",
      "metadata": {
        "colab": {
          "base_uri": "https://localhost:8080/"
        },
        "id": "eMd9-WdDLcq8",
        "outputId": "59ec609e-d89a-4603-abfe-0d7ea4931e69"
      },
      "source": [
        "np.floor( (10)/5)"
      ],
      "execution_count": 28,
      "outputs": [
        {
          "output_type": "execute_result",
          "data": {
            "text/plain": [
              "2.0"
            ]
          },
          "metadata": {
            "tags": []
          },
          "execution_count": 28
        }
      ]
    },
    {
      "cell_type": "code",
      "metadata": {
        "id": "TgPM_aoGu7Ri"
      },
      "source": [
        "callbacks_list_stepd = [tf.keras.callbacks.LearningRateScheduler(step_decay)]"
      ],
      "execution_count": 34,
      "outputs": []
    },
    {
      "cell_type": "markdown",
      "metadata": {
        "id": "WgooC2m9B7MO"
      },
      "source": [
        "##**Caso-4: Learning Rate - Exponencial Decay - lr = lr0 * exp( - k * t )**\n",
        "\n",
        "### O bien, que vaya disminuyendo de manera exponencial con respecto a las épocas."
      ]
    },
    {
      "cell_type": "code",
      "metadata": {
        "id": "Te0EUddNCBLM"
      },
      "source": [
        "def exp_decay(epoch):\n",
        "  alfa_0 = 0.001\n",
        "  factor = 0.001\n",
        "  dropEvery = 5\n",
        "\n",
        "  alfa = alfa_0 * np.exp( - factor * np.floor(epoch/dropEvery) )\n",
        "\n",
        "  return float(alfa)"
      ],
      "execution_count": 113,
      "outputs": []
    },
    {
      "cell_type": "code",
      "metadata": {
        "id": "DvuhlP7vDsKu"
      },
      "source": [
        "callbacks_list_expd = [tf.keras.callbacks.LearningRateScheduler(exp_decay)]"
      ],
      "execution_count": 114,
      "outputs": []
    },
    {
      "cell_type": "markdown",
      "metadata": {
        "id": "7YZQwfuUho4D"
      },
      "source": [
        "##**Caso-5: En cada caso podemos agregar momentum y nesterov**"
      ]
    },
    {
      "cell_type": "code",
      "metadata": {
        "id": "9gEAKn8jve0q"
      },
      "source": [
        "opt5 = tf.keras.optimizers.SGD(lr=lr_inicial, momentum=0.9, nesterov=True)"
      ],
      "execution_count": 38,
      "outputs": []
    },
    {
      "cell_type": "code",
      "metadata": {
        "id": "IZdZo_JnOFkS"
      },
      "source": [
        "model.compile(optimizer=opt1, \n",
        "              loss='categorical_crossentropy',\n",
        "              metrics=['accuracy'])"
      ],
      "execution_count": 30,
      "outputs": []
    },
    {
      "cell_type": "code",
      "metadata": {
        "id": "_lQxSOVDOKO4",
        "colab": {
          "base_uri": "https://localhost:8080/"
        },
        "outputId": "c3183d3d-218a-455e-adb0-3a5ce2f5c442"
      },
      "source": [
        "H = model.fit(x_train, ytrain, \n",
        "              validation_data=(x_test,ytest),\n",
        "              epochs=n_epochs, batch_size=n_batch, \n",
        "              callbacks=callbacks_list_stepd     # puedes usar solamente decaimiento constante o bien con callbacks.\n",
        "              )   \n"
      ],
      "execution_count": 35,
      "outputs": [
        {
          "output_type": "stream",
          "text": [
            "Epoch 1/3\n",
            "1875/1875 [==============================] - 39s 3ms/step - loss: 0.7119 - accuracy: 0.7596 - val_loss: 0.4010 - val_accuracy: 0.8624\n",
            "Epoch 2/3\n",
            "1875/1875 [==============================] - 6s 3ms/step - loss: 0.3839 - accuracy: 0.8631 - val_loss: 0.3510 - val_accuracy: 0.8762\n",
            "Epoch 3/3\n",
            "1875/1875 [==============================] - 6s 3ms/step - loss: 0.3303 - accuracy: 0.8819 - val_loss: 0.4065 - val_accuracy: 0.8541\n"
          ],
          "name": "stdout"
        }
      ]
    },
    {
      "cell_type": "code",
      "metadata": {
        "id": "SSxoIRi3On0k",
        "colab": {
          "base_uri": "https://localhost:8080/",
          "height": 581
        },
        "outputId": "0e2b7c4f-2c72-4092-b6f7-91e5540956e7"
      },
      "source": [
        "plt.style.use(\"ggplot\")\n",
        "plt.figure()\n",
        "plt.plot(np.arange(0,n_epochs),H.history[\"accuracy\"],label=\"train_acc\")\n",
        "plt.plot(np.arange(0,n_epochs),H.history[\"val_accuracy\"],label=\"val_acc\")\n",
        "plt.title(\"Training and Validation Accuracy\")\n",
        "plt.xlabel(\"Epoch\")\n",
        "plt.ylabel(\"Accuracy\")\n",
        "plt.legend()\n",
        "\n",
        "plt.figure()\n",
        "plt.plot(np.arange(0,n_epochs),H.history[\"loss\"],label=\"train_loss\") \n",
        "plt.plot(np.arange(0,n_epochs),H.history[\"val_loss\"],label=\"val_loss\")\n",
        "plt.title(\"Training and Validation Loss\")\n",
        "plt.xlabel(\"Epoch\")\n",
        "plt.ylabel(\"Loss\")\n",
        "plt.legend()\n",
        "\n",
        "plt.show()"
      ],
      "execution_count": 36,
      "outputs": [
        {
          "output_type": "display_data",
          "data": {
            "image/png": "[encoded data removed]",
            "text/plain": [
              "<Figure size 432x288 with 1 Axes>"
            ]
          },
          "metadata": {
            "tags": []
          }
        },
        {
          "output_type": "display_data",
          "data": {
            "image/png": "[encoded data removed]",
            "text/plain": [
              "<Figure size 432x288 with 1 Axes>"
            ]
          },
          "metadata": {
            "tags": []
          }
        }
      ]
    },
    {
      "cell_type": "code",
      "metadata": {
        "id": "e2Mzca2VOOnm"
      },
      "source": [
        "predictions = model.predict(x_test, batch_size=n_batch)"
      ],
      "execution_count": 72,
      "outputs": []
    },
    {
      "cell_type": "code",
      "metadata": {
        "id": "qwMhcD5mOZaZ",
        "colab": {
          "base_uri": "https://localhost:8080/"
        },
        "outputId": "e630b3f0-b93c-4b50-9bd1-07f79f9c7ddf"
      },
      "source": [
        "print(classification_report(ytest.argmax(axis=1), \n",
        "      predictions.argmax(axis=1),target_names=labels))"
      ],
      "execution_count": 73,
      "outputs": [
        {
          "output_type": "stream",
          "text": [
            "              precision    recall  f1-score   support\n",
            "\n",
            "     T_shirt       0.83      0.84      0.84      1000\n",
            "     Trouser       0.99      0.97      0.98      1000\n",
            "    Pullover       0.83      0.84      0.84      1000\n",
            "       Dress       0.89      0.90      0.90      1000\n",
            "        Coat       0.82      0.85      0.83      1000\n",
            "      Sandal       0.97      0.97      0.97      1000\n",
            "       Shirt       0.74      0.68      0.70      1000\n",
            "     Sneaker       0.94      0.96      0.95      1000\n",
            "         Bag       0.97      0.97      0.97      1000\n",
            "  Ankle_boot       0.97      0.96      0.96      1000\n",
            "\n",
            "    accuracy                           0.90     10000\n",
            "   macro avg       0.89      0.90      0.89     10000\n",
            "weighted avg       0.89      0.90      0.89     10000\n",
            "\n"
          ],
          "name": "stdout"
        }
      ]
    }
  ]
}