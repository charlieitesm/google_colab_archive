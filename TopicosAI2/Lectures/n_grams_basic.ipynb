{
  "nbformat": 4,
  "nbformat_minor": 0,
  "metadata": {
    "colab": {
      "name": "n_grams_basic.ipynb",
      "provenance": [],
      "collapsed_sections": []
    },
    "kernelspec": {
      "name": "python3",
      "display_name": "Python 3"
    }
  },
  "cells": [
    {
      "cell_type": "markdown",
      "metadata": {
        "id": "PDrgNSl46zce"
      },
      "source": [
        "#**Usando NLTK**"
      ]
    },
    {
      "cell_type": "code",
      "metadata": {
        "id": "PwRH244ZFuKX"
      },
      "source": [
        "import nltk  \r\n",
        "nltk.download('punkt')\r\n",
        "\r\n",
        "import re"
      ],
      "execution_count": null,
      "outputs": []
    },
    {
      "cell_type": "markdown",
      "metadata": {
        "id": "JYekL0qna42n"
      },
      "source": [
        "#**N-gramas**"
      ]
    },
    {
      "cell_type": "code",
      "metadata": {
        "id": "Cmv4F4MNM71O"
      },
      "source": [
        "s = \"I am Thor, son of Odin. I am the older son. Odin of Asgard?\""
      ],
      "execution_count": 3,
      "outputs": []
    },
    {
      "cell_type": "code",
      "metadata": {
        "id": "_dYJF-D__H4Y"
      },
      "source": [
        "ss = nltk.sent_tokenize(text=s, language='english')    # separamos cada oración/documento del corpus...\r\n",
        "ss"
      ],
      "execution_count": null,
      "outputs": []
    },
    {
      "cell_type": "code",
      "metadata": {
        "id": "i48Cbl_7Gskh"
      },
      "source": [
        "ssxw = [nltk.word_tokenize(s.lower()) for s in ss]    # ... cada oración/documento en sus tokens/términos...\r\n",
        "ssxw"
      ],
      "execution_count": null,
      "outputs": []
    },
    {
      "cell_type": "code",
      "metadata": {
        "id": "hFZq5UEBKcnd"
      },
      "source": [
        "ws = []\r\n",
        "for doc in ssxw:\r\n",
        "  tmp = [re.sub(r\"[^a-z]\", \"\", w) for w in doc]   # ... nos quedamos solo con minúsculas ...\r\n",
        "  ws.append([w for w in tmp if w])               # y quitamos elementos vacíos...\r\n",
        "\r\n",
        "ws"
      ],
      "execution_count": null,
      "outputs": []
    },
    {
      "cell_type": "markdown",
      "metadata": {
        "id": "oz6ayokQNXFw"
      },
      "source": [
        "##**Podemos ahora separar por n-gramas:**"
      ]
    },
    {
      "cell_type": "code",
      "metadata": {
        "id": "9oSvvb5XNbqz"
      },
      "source": [
        "N = 2\r\n",
        "ngramas = []\r\n",
        "for k, tokens in enumerate(ws):\r\n",
        "  ngramas.append( [tuple(ws[k][i:i+N]) for i in range(0, len(tokens)-N+1)] )\r\n",
        "\r\n",
        "ngramas"
      ],
      "execution_count": null,
      "outputs": []
    },
    {
      "cell_type": "markdown",
      "metadata": {
        "id": "YholVX57cIZM"
      },
      "source": [
        "#**Counter**"
      ]
    },
    {
      "cell_type": "code",
      "metadata": {
        "id": "GYKkMWZBcK2G"
      },
      "source": [
        "from collections import Counter"
      ],
      "execution_count": 8,
      "outputs": []
    },
    {
      "cell_type": "code",
      "metadata": {
        "id": "mAEl_1klcdka"
      },
      "source": [
        "s"
      ],
      "execution_count": null,
      "outputs": []
    },
    {
      "cell_type": "code",
      "metadata": {
        "id": "4qmnyOSVdVWJ"
      },
      "source": [
        "new_list = [ng for sublista in ngramas for ng in sublista]\r\n",
        "new_list"
      ],
      "execution_count": null,
      "outputs": []
    },
    {
      "cell_type": "code",
      "metadata": {
        "id": "gtM2Cz1Ecwic"
      },
      "source": [
        "count = Counter(new_list)\r\n",
        "count"
      ],
      "execution_count": null,
      "outputs": []
    },
    {
      "cell_type": "markdown",
      "metadata": {
        "id": "BziNKWQDbhSl"
      },
      "source": [
        "#**Usando ngrams**"
      ]
    },
    {
      "cell_type": "code",
      "metadata": {
        "id": "d8_DM5u1bmLp"
      },
      "source": [
        "from nltk import ngrams"
      ],
      "execution_count": 11,
      "outputs": []
    },
    {
      "cell_type": "code",
      "metadata": {
        "id": "H4beqjTz68Wj"
      },
      "source": [
        "n = 3\r\n",
        "masngramas = ngrams(s.split(), n)"
      ],
      "execution_count": 12,
      "outputs": []
    },
    {
      "cell_type": "code",
      "metadata": {
        "id": "aHu4BiVx7DdL"
      },
      "source": [
        "for grams in masngramas:\r\n",
        "  print(grams)"
      ],
      "execution_count": null,
      "outputs": []
    }
  ]
}